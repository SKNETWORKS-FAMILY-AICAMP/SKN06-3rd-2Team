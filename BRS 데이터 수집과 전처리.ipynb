{
 "cells": [
  {
   "cell_type": "code",
   "execution_count": 6,
   "id": "d8d1d41e-2696-4085-b08a-8d6ab7af29a3",
   "metadata": {},
   "outputs": [],
   "source": [
    "#### 0. 페이지에서 레스토랑 정보를 모두 조회\n",
    "\n",
    "import requests\n",
    "\n",
    "restaurants = [] # 배열 선언\n",
    "for page in range(0, 2): # 0부터 576까지 있음 시간 간격두고 크롤링 추가 필요 => range(0, 577)\n",
    "    url = f\"https://www.bluer.co.kr/api/v1/restaurants?page={page}&size=30&query=&foodType=&foodTypeDetail=&feature=&location=&locationDetail=&area=&areaDetail=&priceRange=&ribbonType=&recommended=false&isSearchName=false&tabMode=single&searchMode=ribbonType&zone1=&zone2=&zone2Lat=&zone2Lng=\"\n",
    "\n",
    "    headers = {\n",
    "        \"User-Agent\": \"Mozilla/5.0 (Windows NT 10.0; Win64; x64) AppleWebKit/537.36 (KHTML, like Gecko) Chrome/131.0.0.0 Safari/537.36\",\n",
    "        \"Accept\": \"application/hal+json\",\n",
    "        \"x-requested-with\": \"XMLHttpRequest\"\n",
    "    }\n",
    "    response = requests.get(url, headers=headers)\n",
    "    \n",
    "    if response.status_code == 200:\n",
    "        data = response.json() \n",
    "        restaurants.append(data[\"_embedded\"][\"restaurants\"])"
   ]
  },
  {
   "cell_type": "code",
   "execution_count": 7,
   "id": "cb1ecee0-7d77-4805-aa63-3ea427da2db1",
   "metadata": {
    "scrolled": true
   },
   "outputs": [
    {
     "name": "stdout",
     "output_type": "stream",
     "text": [
      "{'createdDate': 1231834010000, 'id': 4649, 'headerInfo': {'nameKR': '스시조', 'nameEN': 'Sushi Cho', 'nameCN': '', 'nickname': '', 'year': '2025', 'bookYear': '2025', 'ribbonType': 'RIBBON_THREE', 'ribbonTypeByOrdinal': 0}, 'defaultInfo': {'chefName': '', 'website': '', 'websiteInstagram': '', 'websiteFacebook': '', 'phone': '02-317-0373', 'openHours': '', 'closeHours': '', 'openHoursWeekend': '', 'closeHoursWeekend': '', 'dayOff': '연중무휴', 'app2Yn': False}, 'statusInfo': {'storeType': 'NOT', 'parking': '가능', 'creditCard': 'y', 'visit': '웨스틴조선호텔 20층', 'menu': '런치(Hall)(1인 15만5천원~20만5천원), 디너(Hall)(1인 19만4천원~33만원), 스시조회덮밥(10만원, 프리미엄 13만원), 복가라아게돌솥밥(12만원), 굴돌솥밥(7만8천원), 활새우튀김(11만원), 조리장특선모둠스시(14만5천원)', 'priceRange': '25만원 이상', 'openDate': '200810', 'businessHours': '12:00~15:00/17:30~22:00(마지막 주문 21:30) ', 'openEra': '', 'newOpenDate': '2008년 10월 '}, 'timeInfo': {'mondayByOpen': '', 'mondayByClose': '', 'tuesdayByOpen': '', 'tuesdayByClose': '', 'wednesdayByOpen': '', 'wednesdayByClose': '', 'thursdayByOpen': '', 'thursdayByClose': '', 'fridayByOpen': '', 'fridayByClose': '', 'saturdayByOpen': '', 'saturdayByClose': '', 'sundayByOpen': '', 'sundayByClose': '', 'holidaysByOpen': '', 'holidaysByClose': '', 'timeEtc': ''}, 'juso': {'detailAddress': '웨스틴조선호텔 20층', 'roadAddrPart1': '서울특별시 중구 소공로 106', 'roadAddrPart2': '(소공동)', 'jibunAddr': '서울특별시 중구 소공동 87-1 서울 웨스틴조선호텔', 'engAddr': '106, Sogong-ro, Jung-gu, Seoul', 'zipNo': '04533', 'admCd': '1114011100', 'detBdNmList': '', 'bdNm': '서울 웨스틴조선호텔', 'siNm': '서울특별시', 'sggNm': '중구', 'emdNm': '소공동', 'liNm': '', 'rn': '소공로', 'buldMnnm': '106', 'buldSlno': '0', 'zone2_1': '서울 강북', 'zone2_2': '17. 시청/소공동/정동', 'map_1': '서울 강북지역', 'map_2': 'O. 소공동-무교동-명동'}, 'gps': {'latitude': 37.564406, 'longitude': 126.979697}, 'review': {'review': '서울 최고의 일식당 중 하나로 꼽히는 곳. 최상의 재료를 사용한 최고급 일본 요리를 맛볼 수 있다. 국내 최대 길이를 자랑하는 히노키 다이에서 맛보는 스시가 특히 인기가 높다. 신라호텔의 아리아께와 함께 우리나라 스시의 양대산맥을 이루고 있다. 최근에는 일본의 요시타케와 기술제휴로 적초샤리와 부드럽게 숙성된 네타를 사용하는 등 독특한 스타일을 선보이고 있다.', 'reviewSimple': '서울 최고의 일식당 중 하나로 꼽히는 곳. 최상의 재료를 사용한 최고급 일본 요리를 맛볼 수 있다. 국내 최대 길이를 자랑하는 히노키 다이에서 맛보는 스시가 특히 인기가 높다. 신라호텔의 아리아께와 함께 우리나라 스시의 양대산맥을 이루고 있다.', 'readerAppraisal': '“단품 중에는 의외로 맛있는 고등어소바가 특미.” “신선한 1등급 제철 재료를 사용하는 스시조. 평생 잊지 못할 맛을 맛본 것 같습니다.” “최고급 호텔 내의 스시야인 만큼, 재료의 질과 다양성에서부터 큰 강점이 있음. 거기에 기본기도 탄탄하지만 여러 가지 변주도 가능한 손맛과 최고급 호텔다운 서비스까지 갖춤.” “가장 높은 층에 자리한 만큼 좋은 경치와 분위기를 자랑한다.” “스시집 중 최상의 맛과 서비스를 느낄 수 있다.” “중요한 접대가 필요한 비즈니스나 기념일에 스시가 생각난다면 한 번쯤 도전해볼 만한 최고급 식당.” “이런 집에서 맛을 논하면 바보거나 맛의 고수다.” “언제 가더라도 그 가격이 비싸지 않다는 것을 느끼게 해주는 최고의 스시집입니다.”', 'readerReview': '', 'businessReview': '', 'editorReview': ''}, 'tags': '', 'etcInfo': {'interior': '모던/스타일리시', 'seat': '97석, 스시카운터 9석', 'room': '8개(4~5석, 다다미방 2개, 8~14석), 별실 이용시 룸차지 3만원', 'toilet': 'SEX_IN', 'toiletEtc': '', 'chain': False, 'close': False, 'renewal': False, 'appYn': False, 'projectNo': '', 'reviewerRecommend': False, 'onlySiteView': False, 'head': '', 'branch': '', 'history': '', 'mainMemo': '240913_메뉴 추가\\r\\n240712_영업시간 수정, 메뉴 수정\\r\\n240520_리뷰 내용 추가:  최근에는 일본의 요시타케와 기술제휴로 적초샤리와 부드럽게 숙성된 네타를 사용하는 등 독특한 스타일을 선보이고 있다.\\r\\n200701_메뉴가격수정, 영업시간수정, 웹사이트변경(http://www.echosunhotel.com/comm/sushi.action?leftMenuId=035&index=1 > https://twc.echosunhotel.com/dining/sushiCho.do?rstrntCode=SUSHICHO&wbOutlet=011)\\r\\n180713_주소 수정, 가격 수정 (주소: 소공동 87 -> 87-1, 가격 인상 반영, 설명 추가(프라이빗룸)\\r\\n160519_ 빌딩명추가 - 웨스틴조선호텔 20층'}, 'status': 'ACTIVE', 'bookStatus': 'APPROVAL', 'buzUsername': '', 'business': False, 'pageView': 8045, 'brandMatchStatus': 'NORMAL', 'brandRejectReason': '', 'orderDescending': 0, 'foodTypeDetails': None, 'features': None, 'countEvaluate': 0, 'bookmark': False, 'brandBranches': [], 'foodTypes': ['일식', '스시'], 'foodDetailTypes': ['스시'], 'feature107': False, 'brandHead': None, 'firstImage': {'createdDate': 1726202422000, 'url': '/images/es_fc9208290b11421b9fd4def12527885d.jpg', 'orderAscending': 0}, 'firstLogoImage': None, '_links': {'self': {'href': 'http://www.bluer.co.kr/api/v1/restaurants/4649'}, 'restaurant': {'href': 'http://www.bluer.co.kr/api/v1/restaurants/4649{?projection}', 'templated': True}, 'childrenRestaurants': {'href': 'http://www.bluer.co.kr/api/v1/restaurants/4649/childrenRestaurants{?projection}', 'templated': True}, 'evaluates': {'href': 'http://www.bluer.co.kr/api/v1/restaurants/4649/evaluates'}, 'relativeBusinessOrder': {'href': 'http://www.bluer.co.kr/api/v1/restaurants/4649/relativeBusinessOrder'}, 'parentRestaurant': {'href': 'http://www.bluer.co.kr/api/v1/restaurants/4649/parentRestaurant{?projection}', 'templated': True}, 'reports': {'href': 'http://www.bluer.co.kr/api/v1/restaurants/4649/reports'}, 'relativeWriter': {'href': 'http://www.bluer.co.kr/api/v1/restaurants/4649/relativeWriter'}, 'restaurantFeatures': {'href': 'http://www.bluer.co.kr/api/v1/restaurants/4649/restaurantFeatures'}, 'foodTypeCategories': {'href': 'http://www.bluer.co.kr/api/v1/restaurants/4649/foodTypeCategories'}}}\n"
     ]
    }
   ],
   "source": [
    "print(data[\"_embedded\"][\"restaurants\"][0])  # 첫번째 레스토랑 데이터를 조회하여 정보 확안"
   ]
  },
  {
   "cell_type": "code",
   "execution_count": 8,
   "id": "fc5e8a74-4586-4e7a-a4d8-68d81e7a7356",
   "metadata": {},
   "outputs": [
    {
     "name": "stdout",
     "output_type": "stream",
     "text": [
      "CSV 파일 저장 완료!\n"
     ]
    }
   ],
   "source": [
    "#### 1. 전처리\n",
    "\n",
    "import pandas as pd\n",
    "from pandas import json_normalize\n",
    "\n",
    "# DataFrame 변환\n",
    "df = pd.DataFrame(data[\"_embedded\"][\"restaurants\"])\n",
    "\n",
    "# 필요 없는 columns 선별\n",
    "columns_to_drop = [\"createdDate\", \"id\", \"timeInfo\", \"gps\", \"tags\", \"status\", \"bookStatus\",\n",
    "                    \"buzUsername\", \"business\", \"pageView\", \"brandMatchStatus\", \"brandRejectReason\", \n",
    "                    \"orderDescending\", \"foodTypeDetails\", \"countEvaluate\", \"bookmark\", \"features\", \n",
    "                    \"feature107\", \"brandBranches\", \"foodTypes\", \"brandHead\", \"firstImage\", \"firstLogoImage\",\n",
    "                    \"_links\"]\n",
    "\n",
    "# 필요 없는 columns 삭제\n",
    "df = df.drop(columns=[col for col in columns_to_drop if col in df.columns])\n",
    "\n",
    "    ################## 중간산출물 : nested_restaurants.csv ####################\n",
    "    # df.to_csv(\"nested_restaurants.csv\", index=False)\n",
    "    # print(\"CSV 파일 저장 완료.\")\n",
    "    ##########################################################################\n",
    "\n",
    "# 내부 dictionary 형태의 정보를 Normalization\n",
    "nested_columns = [\"headerInfo\", \"defaultInfo\", \"statusInfo\", \"juso\", \"review\", \"etcInfo\"]\n",
    "    \n",
    "# 각 열에 대해 정규화 실행\n",
    "for column in nested_columns:\n",
    "    n = pd.json_normalize(df[column])  # 정규화\n",
    "    n.columns = [f\"{column}_{subcol}\" for subcol in n.columns]  # 열 이름 접두사 추가\n",
    "    df = pd.concat([df.drop(columns=[column]), n], axis=1)  # 기존 열 삭제 후 결합\n",
    "\n",
    "# 필요 없는 sub_columns 선별\n",
    "sub_columns_to_drop = [\"headerInfo_nickname\", \"headerInfo_year\", \"headerInfo_ribbonTypeByOrdinal\",\n",
    "                      \"defaultInfo_websiteFacebook\", \"statusInfo_storeType\", \"statusInfo_openEra\",\n",
    "                      \"statusInfo_newOpenDate\", \"juso_roadAddrPart2\", \"juso_jibunAddr\", \"juso_zipNo\",\n",
    "                      \"juso_admCd\", \"juso_detBdNmList\", \"juso_zone2_1\", \"juso_zone2_2\", \"juso_map_1\",\n",
    "                      \"juso_map_2\", \"review_readerReview\", \"review_businessReview\", \"review_editorReview\",\n",
    "                      \"etcInfo_toilet\", \"etcInfo_toiletEtc\", \"etcInfo_chain\", \"etcInfo_close\", \"etcInfo_renewal\",\n",
    "                      \"etcInfo_appYn\", \"etcInfo_projectNo\", \"etcInfo_reviewerRecommend\", \"etcInfo_onlySiteView\",\n",
    "                      \"etcInfo_history\", \"etcInfo_mainMemo\"]\n",
    "\n",
    "# 필요 없는 sub_columns 삭제\n",
    "df = df.drop(columns=[col for col in sub_columns_to_drop if col in df.columns])\n",
    "\n",
    "# 결과 저장\n",
    "df.to_csv(\"normalized_restaurants.csv\", index=False)\n",
    "print(\"CSV 파일 저장 완료!\")"
   ]
  },
  {
   "cell_type": "code",
   "execution_count": 9,
   "id": "6163570f-1b4a-4a9a-8a40-98ce5c5ac479",
   "metadata": {},
   "outputs": [
    {
     "name": "stdout",
     "output_type": "stream",
     "text": [
      "수정된 최종 CSV 파일 저장 완료!\n"
     ]
    }
   ],
   "source": [
    "import numpy as np\n",
    "import re\n",
    "\n",
    "# 빈칸이나 \"없음\"으로 표기된 칸을 None으로 변경\n",
    "df.replace([\"\", \"없음\"], None, inplace=True)\n",
    "\n",
    "# foodDetailTypes의 리스트 해제\n",
    "# 각 행의 값이 리스트라면 이를 문자열로 변환 (쉼표로 구분된 문자열로 병합)\n",
    "if \"foodDetailTypes\" in df.columns:\n",
    "    df[\"foodDetailTypes\"] = df[\"foodDetailTypes\"].apply(lambda x: \", \".join(x) if isinstance(x, list) else x)\n",
    "\n",
    "# ribbonType mapping\n",
    "ribbon_mapping = {\n",
    "    \"RIBBON_ONE\": 1,\n",
    "    \"RIBBON_TWO\": 2,\n",
    "    \"RIBBON_THREE\": 3,\n",
    "    \"RIBBON_NONE\": 0\n",
    "}\n",
    "\n",
    "if \"headerInfo_ribbonType\" in df.columns:\n",
    "    df[\"headerInfo_ribbonType\"] = df[\"headerInfo_ribbonType\"].map(ribbon_mapping)\n",
    "\n",
    "# 웹사이트 열 통합\n",
    "if \"defaultInfo_website\" in df.columns and \"defaultInfo_websiteInstagram\" in df.columns:\n",
    "    def merge_websites(row):\n",
    "        websites = [site for site in [row.get(\"defaultInfo_website\"), row.get(\"defaultInfo_websiteInstagram\")] if site]\n",
    "        return \", \".join(websites) if websites else None\n",
    "\n",
    "    df[\"defaultInfo_website_combined\"] = df.apply(merge_websites, axis=1)\n",
    "    df.drop(columns=[\"defaultInfo_website\", \"defaultInfo_websiteInstagram\"], inplace=True)\n",
    "    df.rename(columns={\"defaultInfo_website_combined\": \"defaultInfo_website\"}, inplace=True)\n",
    "\n",
    "# statusInfo_openDate 형식 변환 (년도 4자리로 추출 후 \"2024년\" 형식으로 표기)\n",
    "def extract_year_with_suffix(date):\n",
    "    if isinstance(date, str):\n",
    "        # 패턴 매칭으로 숫자 4자리 추출\n",
    "        match = re.search(r'\\d{4}', date)\n",
    "        if match:\n",
    "            return f\"{int(match.group(0))}년\"  # \"2024년\" 형식으로 반환\n",
    "    return None\n",
    "\n",
    "if \"statusInfo_openDate\" in df.columns:\n",
    "    df[\"statusInfo_openDate\"] = df[\"statusInfo_openDate\"].apply(extract_year_with_suffix)\n",
    "\n",
    "# 최종 결과를 CSV 파일로 저장\n",
    "df.to_csv(\"cleaned_restaurants.csv\", index=False)\n",
    "print(\"수정된 최종 CSV 파일 저장 완료!\")\n"
   ]
  },
  {
   "cell_type": "code",
   "execution_count": null,
   "id": "ebe1f80a-a8eb-4a89-a5a2-8ae869816683",
   "metadata": {},
   "outputs": [],
   "source": []
  },
  {
   "cell_type": "code",
   "execution_count": null,
   "id": "b3bb60cc-3dae-43e4-9fef-4caa0f406f3c",
   "metadata": {},
   "outputs": [],
   "source": []
  },
  {
   "cell_type": "code",
   "execution_count": null,
   "id": "126d812f-4b70-4c34-87bb-3fe2ad71d1ea",
   "metadata": {},
   "outputs": [],
   "source": []
  },
  {
   "cell_type": "code",
   "execution_count": null,
   "id": "17aa880a-b73b-4912-98ab-dda9cabf3430",
   "metadata": {},
   "outputs": [],
   "source": []
  },
  {
   "cell_type": "code",
   "execution_count": null,
   "id": "9cb02f54-3431-4ea1-9cc9-b9ecfc723b74",
   "metadata": {},
   "outputs": [],
   "source": []
  }
 ],
 "metadata": {
  "kernelspec": {
   "display_name": "Python 3 (ipykernel)",
   "language": "python",
   "name": "python3"
  },
  "language_info": {
   "codemirror_mode": {
    "name": "ipython",
    "version": 3
   },
   "file_extension": ".py",
   "mimetype": "text/x-python",
   "name": "python",
   "nbconvert_exporter": "python",
   "pygments_lexer": "ipython3",
   "version": "3.12.6"
  }
 },
 "nbformat": 4,
 "nbformat_minor": 5
}
