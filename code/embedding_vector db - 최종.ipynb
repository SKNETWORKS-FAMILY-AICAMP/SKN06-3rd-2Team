{
 "cells": [
  {
   "cell_type": "markdown",
   "metadata": {},
   "source": [
    "# Embedding & Vector Store"
   ]
  },
  {
   "cell_type": "code",
   "execution_count": 1,
   "metadata": {},
   "outputs": [
    {
     "name": "stderr",
     "output_type": "stream",
     "text": [
      "c:\\Users\\Playdata\\OneDrive\\코딩\\SK\\13_Langchain\\project\\config.py:20: LangChainDeprecationWarning: The class `OpenAIEmbeddings` was deprecated in LangChain 0.0.9 and will be removed in 1.0. An updated version of the class exists in the :class:`~langchain-openai package and should be used instead. To use it run `pip install -U :class:`~langchain-openai` and import as `from :class:`~langchain_openai import OpenAIEmbeddings``.\n",
      "  embedding_model = OpenAIEmbeddings(model=embedding_model_name)\n"
     ]
    }
   ],
   "source": [
    "import config\n",
    "from langchain.embeddings import OpenAIEmbeddings\n",
    "from langchain_core.documents import Document\n",
    "from langchain_chroma import Chroma\n",
    "import pandas as pd\n",
    "import os"
   ]
  },
  {
   "cell_type": "code",
   "execution_count": 2,
   "metadata": {},
   "outputs": [],
   "source": [
    "# setting\n",
    "\n",
    "MODEL_NAME  = config.model_name\n",
    "EMBEDDING_NAME = config.embedding_name\n",
    "COLLECTION_NAME = config.collection_name\n",
    "PERSIST_DIRECTORY = config.persist_directory"
   ]
  },
  {
   "cell_type": "code",
   "execution_count": null,
   "metadata": {},
   "outputs": [
    {
     "name": "stdout",
     "output_type": "stream",
     "text": [
      "총 17280개의 문서가 생성되었습니다.\n",
      "vecor_store에 splited_docs 저장완료\n"
     ]
    }
   ],
   "source": [
    "####################################\n",
    "# 데이터 불러오기 및 저장\n",
    "####################################\n",
    "data = pd.read_csv('data/final_restaurant.csv', low_memory=False)\n",
    "\n",
    "\n",
    "# 모든 데이터를 활용하도록 문서화\n",
    "doc_list = []\n",
    "for _, info in data.iterrows():\n",
    "    doc_list.append(Document(page_content=str(dict(info)), metadata=dict(info)))\n",
    "\n",
    "print(f\"총 {len(doc_list)}개의 문서가 생성되었습니다.\")\n",
    "\n",
    "\n",
    "# Vector store 저장\n",
    "embedding_model = OpenAIEmbeddings(\n",
    "    model=EMBEDDING_NAME\n",
    ")\n",
    "\n",
    "\n",
    "# Persist directory 없는 경우 생성\n",
    "if not os.path.exists(PERSIST_DIRECTORY):\n",
    "    os.makedirs(PERSIST_DIRECTORY)\n",
    "\n",
    "\n",
    "# 연결 + document 추가\n",
    "vector_store = Chroma.from_documents(\n",
    "    documents= doc_list,\n",
    "    embedding=embedding_model,\n",
    "    collection_name=COLLECTION_NAME,\n",
    "    persist_directory=PERSIST_DIRECTORY\n",
    ")\n",
    "\n",
    "print(\"vecor_store에 저장완료\")"
   ]
  },
  {
   "cell_type": "code",
   "execution_count": 8,
   "metadata": {},
   "outputs": [
    {
     "data": {
      "text/plain": [
       "\"{'Unnamed: 0': 0, 'id': 4627, '예약': '예약가능', '음식종류': '중식, 일반중식', '식당이름': '홍보각', '리본개수': 3, '전화번호': '02-531-6479', '영업시간_평일': '미등록', '영업종료_평일': '미등록', '영업시간_주말': '미등록', '영업종료_주말': '미등록', '휴무일': '연중무휴', '앱사용여부': True, '주차가능여부': '가능', '카드결제가능여부': 'y', '방문가능여부': nan, '메뉴정보': '스페셜코스(1인 15만원), 디너코스(A 12만원, B 16만원), 고법불도장(13만원), 모자새우(소 6만원, 대 10만원), 한알탕수육(소 4만8천원, 대 7만원), 특선냉채(2만8천원), 셰프특선수프(3만8천원), 셰프스페셜송이특찜(15만원)', '가격대': '10~15만원대', '영업시간': '12:00~15:00/18:00~21:30(마지막 주문 20:00) ', '신규오픈날짜': '2007년 ', '도로명주소': '서울특별시 강남구 봉은사로 130', '시': '서울특별시', '구': '강남구', '도로명': '동호로', '리뷰_상세': '국내 중식의 대가인 여경래 셰프가 2023년 이전하여 오픈한 중식 파인 다이닝 레스토랑. 고급스러운 분위기의 인테리어에서 정통 중식을 맛볼 수 있다. 여경래 셰프의 시그니처 메뉴인 불도장, 모자새우 등을 선보인다.', '리뷰_요약': '국내 중식의 대가인 여경래 셰프가 2023년 이전하여 오픈한 중식 파인 다이닝 레스토랑. 고급스러운 분위기의 인테리어에서 정통 중식을 맛볼 수 있다. 여경래 셰프의 시그니처 메뉴인 불도장, 모자새우 등을 선보인다.', '리뷰_평가': '정보 없음', '좌석_수': '64', '룸_수': '6개(2, 3, 4, 6, 8, 12석)', '체인점여부': False, '리뉴얼여부': False, '대표점여부': '정보 없음', '지점여부': '정보 없음', '웹사이트': 'https://www.instagram.com/hongbogak_official/'}\""
      ]
     },
     "execution_count": 8,
     "metadata": {},
     "output_type": "execute_result"
    }
   ],
   "source": [
    "doc_list[0].page_content"
   ]
  }
 ],
 "metadata": {
  "kernelspec": {
   "display_name": "langchain",
   "language": "python",
   "name": "python3"
  },
  "language_info": {
   "codemirror_mode": {
    "name": "ipython",
    "version": 3
   },
   "file_extension": ".py",
   "mimetype": "text/x-python",
   "name": "python",
   "nbconvert_exporter": "python",
   "pygments_lexer": "ipython3",
   "version": "3.12.7"
  }
 },
 "nbformat": 4,
 "nbformat_minor": 2
}
