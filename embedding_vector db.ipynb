{
 "cells": [
  {
   "cell_type": "markdown",
   "metadata": {},
   "source": [
    "# Embedding & Vector Store"
   ]
  },
  {
   "cell_type": "code",
   "execution_count": 3,
   "metadata": {},
   "outputs": [
    {
     "data": {
      "text/plain": [
       "True"
      ]
     },
     "execution_count": 3,
     "metadata": {},
     "output_type": "execute_result"
    }
   ],
   "source": [
    "from dotenv import load_dotenv\n",
    "import os\n",
    "load_dotenv()"
   ]
  },
  {
   "cell_type": "code",
   "execution_count": null,
   "metadata": {},
   "outputs": [],
   "source": [
    "# import library\n",
    "\n",
    "import config\n",
    "from pprint import pprint\n",
    "from langchain_community.document_loaders import TextLoader\n",
    "from langchain.text_splitter import RecursiveCharacterTextSplitter\n",
    "from langchain.embeddings import OpenAIEmbeddings\n",
    "from langchain_core.documents import Document\n",
    "from pinecone import Pinecone, ServerlessSpec, PineconeVectorStore"
   ]
  },
  {
   "cell_type": "code",
   "execution_count": null,
   "metadata": {},
   "outputs": [],
   "source": [
    "# setting\n",
    "\n",
    "CHUNK_SIZE = config.chunk_size\n",
    "CHUNK_OVERLAP = config.chunk_overlap\n",
    "\n",
    "MODEL_NAME  = config.model_name\n",
    "EMBEDDING_NAME = config.embedding_name\n",
    "\n",
    "COLLECTION_NAME = config.collection_name\n",
    "PERSIST_DIRECTORY = config.persist_directory\n",
    "\n",
    "PINECONE_API_KEY = os.getenv(\"PINECONE_API_KEY\")\n",
    "INDEX_NAME = 'blueribbon'\n",
    "NAMESPACE = 'blueribbon-ns-1'\n"
   ]
  },
  {
   "cell_type": "code",
   "execution_count": null,
   "metadata": {},
   "outputs": [],
   "source": [
    "# load & split the data\n",
    "# TextLoader \n",
    "# RecursiveChractoerTextSplitter.from_tiktoken_encoder()\n",
    "\n",
    "## Data path\n",
    "path = \"data/b_ribbon.txt\"\n",
    "\n",
    "\n",
    "loader = TextLoader(path, encoding=\"utf-8\")\n",
    "load_docs = loader.load()\n",
    "\n",
    "## Data load, split\n",
    "splitter = RecursiveCharacterTextSplitter.from_tiktoken_encoder(\n",
    "    model_name=MODEL_NAME, \n",
    "    chunk_size=CHUNK_SIZE,\n",
    "    chunk_overlap=CHUNK_OVERLAP\n",
    ")\n",
    "\n",
    "docs = loader.load_and_split(splitter)\n",
    "\n",
    "print(len(docs))\n",
    "\n",
    "## pinecone client initialization\n",
    "\n",
    "pc = Pinecone(api_key=PINECONE_API_KEY)\n",
    "embedding_model = OpenAIEmbeddings(model=\"text-embedding-3-small\")\n",
    "\n",
    "# Pinecone 인덱스 생성, 연결\n",
    "if INDEX_NAME not in pc.list_indexes():\n",
    "    pc.create_index(\n",
    "        name=INDEX_NAME,\n",
    "        dimension=1536,  \n",
    "        metric=\"cosine\", \n",
    "        spec=ServerlessSpec(cloud=\"aws\", region=\"us-east1\")\n",
    "    )\n",
    "\n",
    "index = pc.Index(INDEX_NAME)\n",
    "\n",
    "# 연결된 인덱스 정보 확인\n",
    "index_info = index.describe_index_stats()\n",
    "print(index_info)\n",
    "\n",
    "\n",
    "## index와 연결\n",
    "index = pc.Index(INDEX_NAME) \n",
    "\n",
    "## 연결된 index의 정보를 확인\n",
    "index_info = index.describe_index_stats()\n",
    "print(index_info)\n",
    "\n",
    "\n",
    "\n",
    "# question -> Embedding Vector\n",
    "query = \"Restaurant?\"\n",
    "embedding_query = embedding_model.embed_query(query) # 한문장 변환.\n",
    "print(type(embedding_query), len(embedding_query))"
   ]
  }
 ],
 "metadata": {
  "kernelspec": {
   "display_name": "langchain",
   "language": "python",
   "name": "python3"
  },
  "language_info": {
   "codemirror_mode": {
    "name": "ipython",
    "version": 3
   },
   "file_extension": ".py",
   "mimetype": "text/x-python",
   "name": "python",
   "nbconvert_exporter": "python",
   "pygments_lexer": "ipython3",
   "version": "3.12.4"
  }
 },
 "nbformat": 4,
 "nbformat_minor": 2
}
