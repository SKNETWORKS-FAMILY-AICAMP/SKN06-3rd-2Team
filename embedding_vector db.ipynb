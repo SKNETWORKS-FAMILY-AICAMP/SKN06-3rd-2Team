{
 "cells": [
  {
   "cell_type": "markdown",
   "metadata": {},
   "source": [
    "# Embedding & Vector Store"
   ]
  },
  {
   "cell_type": "code",
   "execution_count": 1,
   "metadata": {},
   "outputs": [
    {
     "name": "stderr",
     "output_type": "stream",
     "text": [
      "c:\\Users\\Playdata\\OneDrive\\코딩\\SK\\13_Langchain\\project\\config.py:20: LangChainDeprecationWarning: The class `OpenAIEmbeddings` was deprecated in LangChain 0.0.9 and will be removed in 1.0. An updated version of the class exists in the :class:`~langchain-openai package and should be used instead. To use it run `pip install -U :class:`~langchain-openai` and import as `from :class:`~langchain_openai import OpenAIEmbeddings``.\n",
      "  embedding_model = OpenAIEmbeddings(model=embedding_model_name)\n"
     ]
    }
   ],
   "source": [
    "import config\n",
    "from pprint import pprint\n",
    "from langchain_community.document_loaders import CSVLoader\n",
    "from langchain.text_splitter import RecursiveCharacterTextSplitter\n",
    "from langchain.embeddings import OpenAIEmbeddings\n",
    "from langchain_core.documents import Document\n",
    "from langchain_chroma import Chroma\n",
    "import pandas as pd\n",
    "\n",
    "import os"
   ]
  },
  {
   "cell_type": "code",
   "execution_count": 2,
   "metadata": {},
   "outputs": [],
   "source": [
    "# setting\n",
    "\n",
    "CHUNK_SIZE = config.chunk_size\n",
    "CHUNK_OVERLAP = config.chunk_overlap\n",
    "\n",
    "MODEL_NAME  = config.model_name\n",
    "EMBEDDING_NAME = config.embedding_name\n",
    "\n",
    "COLLECTION_NAME = config.collection_name\n",
    "PERSIST_DIRECTORY = config.persist_directory\n"
   ]
  },
  {
   "cell_type": "code",
   "execution_count": null,
   "metadata": {},
   "outputs": [],
   "source": [
    "# 데이터 로드 및 전처리\n",
    "data = pd.read_csv(csv_path)\n",
    "data.fillna(\"\", inplace=True)  # NaN 값 처리\n",
    "\n",
    "# 모든 데이터를 활용하도록 문서화\n",
    "documents = []\n",
    "for i, row in data.iterrows():\n",
    "    # 텍스트 내용 (각 행 전체를 하나의 문서로 취급)\n",
    "    page_content = \"\\n\".join([f\"{col}: {val}\" for col, val in row.items()])\n",
    "    \n",
    "    # 메타데이터 생성 (필요 시 주요 컬럼만 선택 가능)\n",
    "    metadata = row.to_dict()\n",
    "    \n",
    "    # Document 생성\n",
    "    doc = Document(page_content=page_content, metadata=metadata)\n",
    "    documents.append(doc)\n",
    "\n",
    "print(f\"총 {len(documents)}개의 문서가 생성되었습니다.\")"
   ]
  },
  {
   "cell_type": "code",
   "execution_count": 6,
   "metadata": {},
   "outputs": [
    {
     "name": "stdout",
     "output_type": "stream",
     "text": [
      "총 39070개의 문서가 생성되었습니다.\n",
      "데이터 분리 완료: 39074\n",
      "\n",
      "vecor_store에 splited_docs 저장완료\n"
     ]
    }
   ],
   "source": [
    "####################################\n",
    "# 데이터 불러오기 및 저장\n",
    "####################################\n",
    "from langchain_core.documents import Document\n",
    "import pandas as pd\n",
    "data = pd.read_csv('data/merged_restaurant_data.csv')\n",
    "\n",
    "# 모든 데이터를 활용하도록 문서화\n",
    "\n",
    "documents = []\n",
    "for i, row in data.iterrows():\n",
    "    # 텍스트 내용 (각 행 전체를 하나의 문서로 취급)\n",
    "    page_content = \"\\n\".join([f\"{col}: {val}\" for col, val in row.items()])\n",
    "    \n",
    "    # Document 생성\n",
    "    doc = Document(page_content=page_content)\n",
    "    documents.append(doc)\n",
    "\n",
    "print(f\"총 {len(documents)}개의 문서가 생성되었습니다.\")\n",
    "\n",
    "\n",
    "splitter = RecursiveCharacterTextSplitter.from_tiktoken_encoder(\n",
    "    model_name=MODEL_NAME, \n",
    "    chunk_size=CHUNK_SIZE,\n",
    "    chunk_overlap=CHUNK_OVERLAP\n",
    ")\n",
    "splited_docs = splitter.split_documents(documents)\n",
    "\n",
    "print(\"데이터 분리 완료:\", len(splited_docs), end='\\n\\n')\n",
    "\n",
    "\n",
    "## Vector store 저장\n",
    "embedding_model = OpenAIEmbeddings(\n",
    "    model=EMBEDDING_NAME\n",
    ")\n",
    "\n",
    "## Persist directory 없는 경우 생성\n",
    "if not os.path.exists(PERSIST_DIRECTORY):\n",
    "    os.makedirs(PERSIST_DIRECTORY)\n",
    "\n",
    "# 연결 + document 추가\n",
    "vector_store = Chroma.from_documents(\n",
    "    documents= splited_docs,\n",
    "    embedding=embedding_model,\n",
    "    collection_name=COLLECTION_NAME,\n",
    "    persist_directory=PERSIST_DIRECTORY\n",
    ")\n",
    "\n",
    "print(\"vecor_store에 splited_docs 저장완료\")"
   ]
  }
 ],
 "metadata": {
  "kernelspec": {
   "display_name": "langchain",
   "language": "python",
   "name": "python3"
  },
  "language_info": {
   "codemirror_mode": {
    "name": "ipython",
    "version": 3
   },
   "file_extension": ".py",
   "mimetype": "text/x-python",
   "name": "python",
   "nbconvert_exporter": "python",
   "pygments_lexer": "ipython3",
   "version": "3.12.7"
  }
 },
 "nbformat": 4,
 "nbformat_minor": 2
}
