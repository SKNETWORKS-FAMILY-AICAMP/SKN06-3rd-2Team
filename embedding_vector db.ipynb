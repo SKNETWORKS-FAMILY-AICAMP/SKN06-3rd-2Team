{
 "cells": [
  {
   "cell_type": "markdown",
   "metadata": {},
   "source": [
    "# Embedding & Vector Store"
   ]
  },
  {
   "cell_type": "code",
   "execution_count": 3,
   "metadata": {},
   "outputs": [
    {
     "data": {
      "text/plain": [
       "True"
      ]
     },
     "execution_count": 3,
     "metadata": {},
     "output_type": "execute_result"
    }
   ],
   "source": [
    "from dotenv import load_dotenv\n",
    "import os\n",
    "load_dotenv()"
   ]
  },
  {
   "cell_type": "code",
   "execution_count": null,
   "metadata": {},
   "outputs": [],
   "source": [
    "# import library\n",
    "\n",
    "import config\n",
    "from pprint import pprint\n",
    "from langchain_community.document_loaders import TextLoader\n",
    "from langchain.text_splitter import RecursiveCharacterTextSplitter\n",
    "from langchain.embeddings import OpenAIEmbeddings\n",
    "from langchain_core.documents import Document\n",
    "from langchain_chroma import Chroma"
   ]
  },
  {
   "cell_type": "code",
   "execution_count": null,
   "metadata": {},
   "outputs": [],
   "source": [
    "# setting\n",
    "\n",
    "CHUNK_SIZE = config.chunk_size\n",
    "CHUNK_OVERLAP = config.chunk_overlap\n",
    "\n",
    "MODEL_NAME  = config.model_name\n",
    "EMBEDDING_NAME = config.embedding_name\n",
    "\n",
    "COLLECTION_NAME = config.collection_name\n",
    "PERSIST_DIRECTORY = config.persist_directory\n"
   ]
  },
  {
   "cell_type": "code",
   "execution_count": null,
   "metadata": {},
   "outputs": [],
   "source": [
    "# load & split the data\n",
    "# TextLoader \n",
    "# RecursiveChractoerTextSplitter.from_tiktoken_encoder()\n",
    "\n",
    "## Data path\n",
    "path = \"data/blue_r.txt\"\n",
    "\n",
    "\n",
    "loader = TextLoader(path, encoding=\"utf-8\")\n",
    "load_docs = loader.load()\n",
    "\n",
    "\n",
    "## Data load, split\n",
    "splitter = RecursiveCharacterTextSplitter.from_tiktoken_encoder(\n",
    "    model_name=MODEL_NAME, \n",
    "    chunk_size=CHUNK_SIZE,\n",
    "    chunk_overlap=CHUNK_OVERLAP\n",
    ")\n",
    "\n",
    "docs = splitter.split_document(load_docs)\n",
    "\n",
    "print(len(docs))\n",
    "\n",
    "## Metadata 생성\n",
    "# name = os.path.splitext(os.path.basename(path))[0].split('_')[-1]\n",
    "# metadata = {\n",
    "#         \"title\": name,\n",
    "#         \"name\": name,\n",
    "#         \"full_text\":full_text\n",
    "#     }\n",
    "\n",
    "## Document 생성\n",
    "document_list = []\n",
    "for doc in docs: # docs: split된 소설 내용들. list[str]\n",
    "        _doc = Document(metadata=metadata, page_content=doc)\n",
    "        document_list.append(_doc)\n",
    "\n",
    "print(len(document_list))\n",
    "\n",
    "\n",
    "## Vector sotre 저장\n",
    "embedding_model = OpenAIEmbeddings(\n",
    "    model=EMBEDDING_NAME\n",
    ")\n",
    "\n",
    "## Persist directory 없는 경우 생성\n",
    "if not os.path.exists(PERSIST_DIRECTORY):\n",
    "    os.makedirs(PERSIST_DIRECTORY)\n",
    "\n",
    "# 연결 + document 추가\n",
    "vector_store = Chroma.from_documents(\n",
    "    documents=document_list,\n",
    "    embedding=embedding_model,\n",
    "    collection_name=COLLECTION_NAME,\n",
    "    persist_directory=PERSIST_DIRECTORY\n",
    ")\n",
    "\n",
    "\n",
    "\n",
    "# question -> Embedding Vector\n",
    "query = \"Restaurant?\"\n",
    "embedding_query = embedding_model.embed_query(query) # 한문장 변환.\n",
    "print(type(embedding_query), len(embedding_query))"
   ]
  }
 ],
 "metadata": {
  "kernelspec": {
   "display_name": "langchain",
   "language": "python",
   "name": "python3"
  },
  "language_info": {
   "codemirror_mode": {
    "name": "ipython",
    "version": 3
   },
   "file_extension": ".py",
   "mimetype": "text/x-python",
   "name": "python",
   "nbconvert_exporter": "python",
   "pygments_lexer": "ipython3",
   "version": "3.12.4"
  }
 },
 "nbformat": 4,
 "nbformat_minor": 2
}
