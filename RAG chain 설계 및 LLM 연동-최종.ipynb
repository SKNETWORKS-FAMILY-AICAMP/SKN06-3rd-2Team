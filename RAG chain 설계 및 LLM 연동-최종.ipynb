{
 "cells": [
  {
   "cell_type": "markdown",
   "metadata": {},
   "source": [
    "# 1. RAG chain 구현 구문"
   ]
  },
  {
   "cell_type": "code",
   "execution_count": 2,
   "metadata": {},
   "outputs": [
    {
     "data": {
      "text/plain": [
       "True"
      ]
     },
     "execution_count": 2,
     "metadata": {},
     "output_type": "execute_result"
    }
   ],
   "source": [
    "import os\n",
    "from langchain_openai import OpenAIEmbeddings, ChatOpenAI\n",
    "from langchain_chroma import Chroma\n",
    "from langchain.prompts import ChatPromptTemplate, ChatMessagePromptTemplate, MessagesPlaceholder\n",
    "from langchain_core.runnables import RunnablePassthrough, RunnableWithMessageHistory\n",
    "from langchain_community.tools import TavilySearchResults\n",
    "from langchain_core.documents import Document\n",
    "\n",
    "from langchain_core.output_parsers import StrOutputParser\n",
    "from langchain import hub\n",
    "from langchain_core.runnables import RunnablePassthrough, RunnableLambda\n",
    "\n",
    "from ragas import EvaluationDataset, RunConfig, evaluate\n",
    "from ragas.metrics import LLMContextRecall, Faithfulness, LLMContextPrecisionWithReference, AnswerRelevancy\n",
    "\n",
    "from ragas.llms import LangchainLLMWrapper\n",
    "from ragas.embeddings import LangchainEmbeddingsWrapper\n",
    "\n",
    "\n",
    "from textwrap import dedent\n",
    "from operator import itemgetter\n",
    "\n",
    "from dotenv import load_dotenv\n",
    "load_dotenv()"
   ]
  },
  {
   "cell_type": "code",
   "execution_count": 3,
   "metadata": {},
   "outputs": [
    {
     "name": "stdout",
     "output_type": "stream",
     "text": [
      "bluer_db_openai\n",
      "vector_store/chroma/bluer_db\n",
      "text-embedding-3-small\n",
      "gpt-4o-mini\n"
     ]
    }
   ],
   "source": [
    "COLLECTION_NAME = os.getenv(\"COLLECTION_NAME\")\n",
    "PERSIST_DIRECTORY = os.getenv(\"PERSIST_DIRECTORY\")\n",
    "EMBEDDING_MODEL_NAME = os.getenv(\"EMBEDDING_NAME\")\n",
    "embedding_model = OpenAIEmbeddings(model=EMBEDDING_MODEL_NAME)\n",
    "MODEL_NAME = os.getenv(\"MODEL_NAME\")\n",
    "print(COLLECTION_NAME)\n",
    "print(PERSIST_DIRECTORY)\n",
    "print(EMBEDDING_MODEL_NAME)\n",
    "print(MODEL_NAME)"
   ]
  },
  {
   "cell_type": "code",
   "execution_count": 4,
   "metadata": {},
   "outputs": [],
   "source": [
    "########################################################\n",
    "# vector_db에서 데이터 불러오기\n",
    "########################################################\n",
    "\n",
    "vector_store = Chroma(\n",
    "    embedding_function=embedding_model,\n",
    "    collection_name=COLLECTION_NAME,\n",
    "    persist_directory=PERSIST_DIRECTORY\n",
    ")\n",
    "\n",
    "\n",
    "# GPT Model 생성\n",
    "model = ChatOpenAI(\n",
    "    model=MODEL_NAME,\n",
    "    temperature=0 \n",
    ")\n",
    "\n",
    "\n",
    "retriever = vector_store.as_retriever(\n",
    "    search_type=\"mmr\",\n",
    "    search_kwargs={\n",
    "        \"k\": 50,\n",
    "        \"fetch_k\": 200,\n",
    "        \"lambda_mult\": 0.5,\n",
    "        # \"filters\": {\"리본개수\": {\"$gte\": 0}}\n",
    "    }\n",
    ")\n",
    "\n",
    "\n",
    "prompt_template = ChatPromptTemplate.from_messages([\n",
    "    (\"system\", dedent(\"\"\"\n",
    "        당신은 한국의 식당을 소개하는 인공지능 비서입니다. \n",
    "        반드시 질문에 대해서 [context]에 주어진 내용을 바탕으로 답변을 해주세요. \n",
    "        질문에 '리본개수', '평점', '몇 개'라는 키워드가 포함된 경우, [context]에서 \"리본개수\" 항목을 확인해 답변하세요.\n",
    "        리본개수는 평점과 같은 의미를 가집니다.\n",
    "        [context]\n",
    "        {context}\n",
    "    \"\"\")),\n",
    "    (\"human\", \"{question}\")\n",
    "])\n",
    "\n",
    "\n",
    "#########################################\n",
    "# Chain 생성\n",
    "#########################################\n",
    "\n",
    "def content_from_doc(docs:list[Document]):\n",
    "    return \"\\n\\n\".join([d.page_content for d in docs])\n",
    "\n",
    "\n",
    "chain =  {'context': retriever  | RunnableLambda(content_from_doc), 'question': RunnablePassthrough()}  | prompt_template | model | StrOutputParser()"
   ]
  },
  {
   "cell_type": "code",
   "execution_count": 5,
   "metadata": {},
   "outputs": [
    {
     "name": "stdout",
     "output_type": "stream",
     "text": [
      "서울 서대문구 근처에서 리본개수가 2개인 맛집은 '내일도두부'입니다. 이곳은 두부 전문점으로, 두부전골, 버섯불고기두부밥, 얼큰순두부 등의 메뉴를 제공합니다. 가격대는 1~2만원대이며, 영업시간은 10:00~21:30입니다.\n"
     ]
    }
   ],
   "source": [
    "QUERY = \"서울 서대문구 근처 음식점 중 리본개수가 2개인 맛집을 추천해줘.\"\n",
    "response = chain.invoke(QUERY)\n",
    "print(response)"
   ]
  },
  {
   "cell_type": "code",
   "execution_count": 51,
   "metadata": {},
   "outputs": [
    {
     "name": "stdout",
     "output_type": "stream",
     "text": [
      "리본개수가 1개 이상인 식당은 다음과 같습니다:\n",
      "\n",
      "1. 버섯찌개경주집 - 리본개수: 1\n",
      "2. 이조식탁 - 리본개수: 1\n",
      "3. 진진만두 - 리본개수: 1\n",
      "4. 르비엣 - 리본개수: 1\n",
      "5. 부민옥 - 리본개수: 1\n"
     ]
    }
   ],
   "source": [
    "QUERY = \"리본개수가 1개 이상인 식당만 알려주세요.\"\n",
    "response = chain.invoke(QUERY)\n",
    "print(response)"
   ]
  },
  {
   "cell_type": "code",
   "execution_count": 3,
   "metadata": {},
   "outputs": [
    {
     "name": "stdout",
     "output_type": "stream",
     "text": [
      "리본개수가 2개인 식당으로는 다음과 같은 곳들이 있습니다:\n",
      "\n",
      "1. 팔레드신: 중식, 모던차이니즈, 홍콩식중식, 북경오리를 전문으로 하는 식당입니다. 서울특별시 중구 퇴계로에 위치하고 있으며, 화려한 인테리어와 수준 높은 북경오리와 광동요리를 제공합니다.\n",
      "\n",
      "2. 핑하오: 일반중식을 제공하는 식당으로, 서울특별시 마포구 마포대로에 위치하고 있습니다. 신라호텔, 리츠칼튼호텔 출신의 왕병호 셰프가 운영하며, 합리적인 가격으로 수준급의 중식 요리를 즐길 수 있습니다.\n",
      "\n",
      "3. 백리향: 일반중식을 제공하는 식당으로, 서울특별시 영등포구 63로에 위치하고 있습니다. 정통 스타일의 중식을 즐길 수 있으며, 비즈니스나 상견례 장소로도 인기가 높습니다.\n",
      "\n",
      "4. 삼청각한식당: 한식(일반한식), 한정식을 제공하는 식당으로, 서울특별시 성북구 대사관로에 위치하고 있습니다. 정갈한 궁중 음식과 함께 전통문화와 예술을 경험할 수 있는 곳입니다.\n",
      "\n",
      "5. BLT스테이크: 기타, 스테이크를 제공하는 식당으로, 서울특별시 종로구 청계천로에 위치하고 있습니다. 뉴욕의 3대 스테이크로 불리는 곳으로, 뉴욕채끝등심과 한우투뿔안심이 대표 메뉴입니다.\n"
     ]
    }
   ],
   "source": [
    "QUERY = \"리본개수가 2개인 식당을 추천해주세요\"\n",
    "response = chain.invoke(QUERY)\n",
    "print(response)"
   ]
  },
  {
   "cell_type": "code",
   "execution_count": null,
   "metadata": {},
   "outputs": [
    {
     "name": "stdout",
     "output_type": "stream",
     "text": [
      "다음은 예약 가능한 한식당 목록입니다:\n",
      "\n",
      "1. 아리랑가든\n",
      "   - 음식종류: 한식(일반한식), 버섯전골, 일반한식\n",
      "   - 전화번호: 043-744-0203\n",
      "   - 도로명주소: 충청북도 영동군 영동읍 학산영동로 1041\n",
      "\n",
      "2. 연춘식당\n",
      "   - 음식종류: 한식(민물어패류), 장어, 한식(가금류), 닭구이\n",
      "   - 전화번호: 041-545-2866\n",
      "   - 도로명주소: 충청남도 아산시 신정호길 67\n",
      "\n",
      "3. 명동식당\n",
      "   - 음식종류: 한식(일반한식), 한정식\n",
      "   - 전화번호: 061-433-2147\n",
      "   - 도로명주소: 전라남도 강진군 강진읍 서성안길 5\n",
      "\n",
      "4. 삼청각한식당\n",
      "   - 음식종류: 한식(일반한식), 한정식\n",
      "   - 전화번호: 02-765-3000\n",
      "   - 도로명주소: 서울특별시 성북구 대사관로 3\n",
      "\n",
      "5. 애성회관\n",
      "   - 음식종류: 한식(탕/국/찌개/전골), 곰탕, 한식(육류), 수육\n",
      "   - 전화번호: 02-352-0303\n",
      "   - 도로명주소: 서울특별시 중구 남대문로5길 23\n",
      "\n",
      "6. 대한식당\n",
      "   - 음식종류: 한식(육류), 소불고기\n",
      "   - 전화번호: 061-763-0095\n",
      "   - 도로명주소: 전라남도 광양시 광양읍 매일시장길 12-15\n",
      "\n",
      "7. 경희식당\n",
      "   - 음식종류: 한식(일반한식), 한정식\n",
      "   - 전화번호: 043-543-3736\n",
      "   - 도로명주소: 충청북도 보은군 속리산면 사내7길 11-4\n",
      "\n",
      "8. 삼호식당\n",
      "   - 음식종류: 한식(일반한식), 일반한식, 산채비빔밥\n",
      "   - 전화번호: 041-836-5038\n",
      "   - 도로명주소: 충청남도 부여군 외산면 무량로 190\n",
      "\n",
      "9. 은진손칼국수\n",
      "   - 음식종류: 한식(면류), 칼국수\n",
      "   - 전화번호: 041-741-0612\n",
      "   - 도로명주소: 충청남도 논산시 은진면 매죽헌로25번길 8\n",
      "\n",
      "10. 역삼동북어집\n",
      "    - 음식종류: 한식(어패류), 북어찜\n",
      "    - 전화번호: 02-558-6605\n",
      "    - 도로명주소: 서울특별시 강남구 논현로85길 5-14\n",
      "\n",
      "이 외에도 다양한 한식당이 있으니, 원하는 지역이나 메뉴에 따라 선택하시면 좋겠습니다.\n"
     ]
    }
   ],
   "source": [
    "QUERY = \"예약가능한 한식당 추천해줘.\"\n",
    "response = chain.invoke(QUERY)\n",
    "print(response)"
   ]
  },
  {
   "cell_type": "code",
   "execution_count": null,
   "metadata": {},
   "outputs": [
    {
     "name": "stdout",
     "output_type": "stream",
     "text": [
      "리본개수가 2개인 식당은 다음과 같습니다:\n",
      "\n",
      "1. 백리향\n",
      "2. 팔레드신\n",
      "3. 핑하오\n",
      "4. 성민양꼬치\n",
      "5. BLT스테이크\n",
      "\n",
      "이 식당들은 각각 다양한 종류의 요리를 제공하며, 높은 평점을 받은 곳들입니다.\n"
     ]
    }
   ],
   "source": [
    "QUERY = \"리본개수가 2개인 식당을 몇 곳 추천해주세요\"\n",
    "response = chain.invoke(QUERY)\n",
    "print(response)"
   ]
  },
  {
   "cell_type": "code",
   "execution_count": 49,
   "metadata": {},
   "outputs": [
    {
     "name": "stdout",
     "output_type": "stream",
     "text": [
      "다음은 리본개수가 2개인 식당 다섯 곳입니다:\n",
      "\n",
      "1. 백리향\n",
      "2. 라씨에트\n",
      "3. 핑하오\n",
      "4. 성민양꼬치\n",
      "5. 팔레드신\n"
     ]
    }
   ],
   "source": [
    "QUERY = \"리본개수가 2개인 식당을 다섯 곳을 추천해주세요\"\n",
    "response = chain.invoke(QUERY)\n",
    "print(response)"
   ]
  },
  {
   "cell_type": "code",
   "execution_count": 5,
   "metadata": {},
   "outputs": [
    {
     "name": "stdout",
     "output_type": "stream",
     "text": [
      "추천할 만한 식당은 여러 곳이 있습니다. 몇 가지를 소개해드리겠습니다.\n",
      "\n",
      "1. **도취**\n",
      "   - 음식종류: 바, 다이닝바, 와인바\n",
      "   - 전화번호: 02-723-1288\n",
      "   - 메뉴: 육회타르타르, 크림치즈곶감말이, 마라순두부전골 등\n",
      "   - 영업시간: 17:00~24:00\n",
      "   - 주소: 서울특별시 종로구 옥인길 23-6\n",
      "   - 특징: 아지트 분위기의 한식 다이닝 와인바로, 육회타르타르가 시그니처 메뉴입니다.\n",
      "\n",
      "2. **삼청각한식당**\n",
      "   - 음식종류: 한식(일반한식), 한정식\n",
      "   - 전화번호: 02-765-3000\n",
      "   - 메뉴: 다양한 한정식 코스\n",
      "   - 영업시간: 12:00~15:00/18:00~21:00\n",
      "   - 주소: 서울특별시 성북구 대사관로 3\n",
      "   - 특징: 전통문화시설에서 정갈한 궁중 음식을 경험할 수 있는 곳입니다.\n",
      "\n",
      "3. **홍운장**\n",
      "   - 음식종류: 중식, 일반중식\n",
      "   - 전화번호: 02-558-3666\n",
      "   - 메뉴: 군만두, 짬뽕, 탕수육 등\n",
      "   - 영업시간: 11:30~21:00\n",
      "   - 주소: 서울특별시 강남구 삼성로 341\n",
      "   - 특징: 오랜 역사를 자랑하는 중국집으로, 짬뽕과 짜장면이 추천 메뉴입니다.\n",
      "\n",
      "이 외에도 다양한 식당이 있으니, 원하는 음식 종류나 분위기에 따라 선택하시면 좋을 것 같습니다!\n"
     ]
    }
   ],
   "source": [
    "QUERY = \"식당을 추천해주세요\"\n",
    "response = chain.invoke(QUERY)\n",
    "print(response)"
   ]
  },
  {
   "cell_type": "code",
   "execution_count": 25,
   "metadata": {},
   "outputs": [
    {
     "name": "stdout",
     "output_type": "stream",
     "text": [
      "다음은 프랑스식 음식을 제공하는 식당들입니다:\n",
      "\n",
      "1. **파사주**\n",
      "   - 전화번호: 02-332-8994\n",
      "   - 가격대: 2~5만원대\n",
      "   - 메뉴: 잠봉샐러드, 프렌치어니언수프, 파흐망티에 등\n",
      "   - 영업시간: 11:30~15:00 / 17:00~22:00 (주말 11:00~15:00 / 16:30~22:00)\n",
      "   - 주소: 서울특별시 마포구 백범로20길 24-5\n",
      "   - 예약 가능\n",
      "\n",
      "2. **라브리**\n",
      "   - 전화번호: 02-739-8930\n",
      "   - 가격대: 5~10만원대\n",
      "   - 메뉴: 양갈비스테이크, 런치세트, 저녁세트 등\n",
      "   - 영업시간: 11:30~15:00 / 17:30~21:30 (토요일 12:00~15:00 / 17:30~21:30)\n",
      "   - 주소: 서울특별시 종로구 종로 1\n",
      "   - 예약 불가능\n",
      "\n",
      "3. **르셰프블루**\n",
      "   - 전화번호: 02-6010-8088\n",
      "   - 가격대: 10~15만원대\n",
      "   - 메뉴: 런치코스, 디너코스 등\n",
      "   - 영업시간: 11:30~15:00 / 17:30~22:00\n",
      "   - 주소: 서울특별시 중구 청파로 435-10\n",
      "   - 예약 가능\n",
      "\n",
      "4. **빠리가옥**\n",
      "   - 전화번호: 02-6083-1626\n",
      "   - 가격대: 2~5만원대\n",
      "   - 메뉴: 에스카르고, 비프부르기뇽, 살치살스테이크 등\n",
      "   - 영업시간: 11:30~15:00 / 17:00~22:00 (주말 11:30~22:00)\n",
      "   - 주소: 서울특별시 종로구 수표로28길 33-4\n",
      "   - 예약 가능\n",
      "\n",
      "이 외에도 다양한 프랑스식 식당이 있으니 참고하시기 바랍니다!\n"
     ]
    }
   ],
   "source": [
    "QUERY = \"프랑스식을 추천해주세요\"\n",
    "response = chain.invoke(QUERY)\n",
    "print(response)"
   ]
  },
  {
   "cell_type": "code",
   "execution_count": 77,
   "metadata": {},
   "outputs": [
    {
     "name": "stdout",
     "output_type": "stream",
     "text": [
      "가족과 함께 가기 좋은 식당으로는 '고루'를 추천드립니다. 이 식당은 인천광역시 서구에 위치한 전통 한정식집으로, 멋들어진 한옥 외관과 운치 있는 분위기가 돋보입니다. 음식 맛이 자극적이지 않고 메뉴가 다채롭게 구성되어 있어 가족 모임에 적합합니다. 방이 개별로 나뉘어 있어 프라이빗한 식사가 가능하며, 상견례나 모임을 하기에 좋은 장소입니다.\n"
     ]
    }
   ],
   "source": [
    "QUERY = \"가족과 함께 갈만한 식당을 추천해주세요\"\n",
    "response = chain.invoke(QUERY)\n",
    "print(response)"
   ]
  }
 ],
 "metadata": {
  "kernelspec": {
   "display_name": "base",
   "language": "python",
   "name": "python3"
  },
  "language_info": {
   "codemirror_mode": {
    "name": "ipython",
    "version": 3
   },
   "file_extension": ".py",
   "mimetype": "text/x-python",
   "name": "python",
   "nbconvert_exporter": "python",
   "pygments_lexer": "ipython3",
   "version": "3.12.7"
  }
 },
 "nbformat": 4,
 "nbformat_minor": 2
}
