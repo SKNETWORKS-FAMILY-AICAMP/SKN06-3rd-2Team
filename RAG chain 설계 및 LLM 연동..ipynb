{
 "cells": [
  {
   "cell_type": "markdown",
   "metadata": {},
   "source": [
    "# 1. RAG chain 구현 구문"
   ]
  },
  {
   "cell_type": "code",
   "execution_count": 2,
   "metadata": {},
   "outputs": [
    {
     "data": {
      "text/plain": [
       "True"
      ]
     },
     "execution_count": 2,
     "metadata": {},
     "output_type": "execute_result"
    }
   ],
   "source": [
    "from langchain_community.document_loaders import TextLoader\n",
    "from langchain.text_splitter import RecursiveCharacterTextSplitter\n",
    "from langchain_openai import OpenAIEmbeddings, ChatOpenAI\n",
    "from langchain_chroma import Chroma\n",
    "from langchain.prompts import ChatPromptTemplate, ChatMessagePromptTemplate, MessagesPlaceholder\n",
    "from langchain_core.runnables import RunnablePassthrough, RunnableWithMessageHistory\n",
    "from langchain_community.tools import TavilySearchResults\n",
    "from langchain_core.documents import Document\n",
    "\n",
    "# 평가 알로리즘 모듈\n",
    "from langchain_core.output_parsers import JsonOutputParser,StrOutputParser\n",
    "from langchain import hub\n",
    "from langchain_core.runnables import RunnablePassthrough, RunnableLambda\n",
    "\n",
    "from ragas import EvaluationDataset, RunConfig, evaluate\n",
    "from ragas.metrics import LLMContextRecall, Faithfulness, LLMContextPrecisionWithReference, AnswerRelevancy\n",
    "\n",
    "from ragas.llms import LangchainLLMWrapper\n",
    "from ragas.embeddings import LangchainEmbeddingsWrapper\n",
    "\n",
    "\n",
    "\n",
    "\n",
    "from textwrap import dedent\n",
    "from operator import itemgetter\n",
    "\n",
    "from dotenv import load_dotenv\n",
    "load_dotenv()"
   ]
  },
  {
   "cell_type": "code",
   "execution_count": 3,
   "metadata": {},
   "outputs": [
    {
     "name": "stdout",
     "output_type": "stream",
     "text": [
      "Documents: [\"{'Unnamed: 0': 0, 'id': 4627, '예약': '예약가능', '음식종류': '중식, 일반중식', '식당이름': '홍보각', '리본개수': 3, '전화번호': '02-531-6479', '영업시간_평일': '미등록', '영업종료_평일': '미등록', '영업시간_주말': '미등록', '영업종료_주말': '미등록', '휴무일': '연중무휴', '앱사용여부': True, '주차가능여부': '가능', '카드결제가능여부': 'y', '방문가능여부': nan, '메뉴정보': '스페셜코스(1인 15만원), 디너코스(A 12만원, B 16만원), 고법불도장(13만원), 모자새우(소 6만원, 대 10만원), 한알탕수육(소 4만8천원, 대 7만원), 특선냉채(2만8천원), 셰프특선수프(3만8천원), 셰프스페셜송이특찜(15만원)', '가격대': '10~15만원대', '영업시간': '12:00~15:00/18:00~21:30(마지막 주문 20:00) ', '신규오픈날짜': '2007년 ', '도로명주소': '서울특별시 강남구 봉은사로 130', '시': '서울특별시', '구': '강남구', '도로명': '동호로', '리뷰_상세': '국내 중식의 대가인 여경래 셰프가 2023년 이전하여 오픈한 중식 파인 다이닝 레스토랑. 고급스러운 분위기의 인테리어에서 정통 중식을 맛볼 수 있다. 여경래 셰프의 시그니처 메뉴인 불도장, 모자새우 등을 선보인다.', '리뷰_요약': '국내 중식의 대가인 여경래 셰프가 2023년 이전하여 오픈한 중식 파인 다이닝 레스토랑. 고급스러운 분위기의 인테리어에서 정통 중식을 맛볼 수 있다. 여경래 셰프의 시그니처 메뉴인 불도장, 모자새우 등을 선보인다.', '리뷰_평가': '정보 없음', '좌석_수': '64', '룸_수': '6개(2, 3, 4, 6, 8, 12석)', '체인점여부': False, '리뉴얼여부': False, '대표점여부': '정보 없음', '지점여부': '정보 없음', '웹사이트': 'https://www.instagram.com/hongbogak_official/'}\"]\n",
      "Metadatas: [{'Unnamed: 0': 0, 'id': 4627, '가격대': '10~15만원대', '구': '강남구', '대표점여부': '정보 없음', '도로명': '동호로', '도로명주소': '서울특별시 강남구 봉은사로 130', '룸_수': '6개(2, 3, 4, 6, 8, 12석)', '리뉴얼여부': False, '리본개수': 3, '리뷰_상세': '국내 중식의 대가인 여경래 셰프가 2023년 이전하여 오픈한 중식 파인 다이닝 레스토랑. 고급스러운 분위기의 인테리어에서 정통 중식을 맛볼 수 있다. 여경래 셰프의 시그니처 메뉴인 불도장, 모자새우 등을 선보인다.', '리뷰_요약': '국내 중식의 대가인 여경래 셰프가 2023년 이전하여 오픈한 중식 파인 다이닝 레스토랑. 고급스러운 분위기의 인테리어에서 정통 중식을 맛볼 수 있다. 여경래 셰프의 시그니처 메뉴인 불도장, 모자새우 등을 선보인다.', '리뷰_평가': '정보 없음', '메뉴정보': '스페셜코스(1인 15만원), 디너코스(A 12만원, B 16만원), 고법불도장(13만원), 모자새우(소 6만원, 대 10만원), 한알탕수육(소 4만8천원, 대 7만원), 특선냉채(2만8천원), 셰프특선수프(3만8천원), 셰프스페셜송이특찜(15만원)', '시': '서울특별시', '식당이름': '홍보각', '신규오픈날짜': '2007년 ', '앱사용여부': True, '영업시간': '12:00~15:00/18:00~21:30(마지막 주문 20:00) ', '영업시간_주말': '미등록', '영업시간_평일': '미등록', '영업종료_주말': '미등록', '영업종료_평일': '미등록', '예약': '예약가능', '웹사이트': 'https://www.instagram.com/hongbogak_official/', '음식종류': '중식, 일반중식', '전화번호': '02-531-6479', '좌석_수': '64', '주차가능여부': '가능', '지점여부': '정보 없음', '체인점여부': False, '카드결제가능여부': 'y', '휴무일': '연중무휴'}]\n"
     ]
    }
   ],
   "source": [
    "########################################################\n",
    "# config 목록\n",
    "########################################################\n",
    "COLLECTION_NAME = \"bluer_db_openai\"\n",
    "PERSIST_DIRECTORY = \"vector_store/chroma/bluer_db\"\n",
    "EMBEDDING_MODEL_NAME = \"text-embedding-3-small\"\n",
    "embedding_model = OpenAIEmbeddings(model=EMBEDDING_MODEL_NAME)\n",
    "MODEL_NAME = 'gpt-4o-mini'\n",
    "\n",
    "\n",
    "########################################################\n",
    "# vector_db에서 데이터 불러오기\n",
    "########################################################\n",
    "\n",
    "# vector store 연결\n",
    "vector_store = Chroma(\n",
    "    embedding_function=embedding_model,\n",
    "    collection_name=COLLECTION_NAME,\n",
    "    persist_directory=PERSIST_DIRECTORY\n",
    ")\n",
    "\n",
    "# 저장된 데이터 내용 확인\n",
    "documents = vector_store._collection.get()['documents']\n",
    "metadatas = vector_store._collection.get()['metadatas']\n",
    "\n",
    "print(f\"Documents: {documents[:1]}\") \n",
    "print(f\"Metadatas: {metadatas[:1]}\")"
   ]
  },
  {
   "cell_type": "code",
   "execution_count": 3,
   "metadata": {},
   "outputs": [
    {
     "name": "stdout",
     "output_type": "stream",
     "text": [
      "Documents: [\"{'Unnamed: 0': 0, 'id': 4627, '예약': '예약가능', '음식종류': '중식, 일반중식', '식당이름': '홍보각', '리본개수': 3, '전화번호': '02-531-6479', '영업시간_평일': '미등록', '영업종료_평일': '미등록', '영업시간_주말': '미등록', '영업종료_주말': '미등록', '휴무일': '연중무휴', '앱사용여부': True, '주차가능여부': '가능', '카드결제가능여부': 'y', '방문가능여부': nan, '메뉴정보': '스페셜코스(1인 15만원), 디너코스(A 12만원, B 16만원), 고법불도장(13만원), 모자새우(소 6만원, 대 10만원), 한알탕수육(소 4만8천원, 대 7만원), 특선냉채(2만8천원), 셰프특선수프(3만8천원), 셰프스페셜송이특찜(15만원)', '가격대': '10~15만원대', '영업시간': '12:00~15:00/18:00~21:30(마지막 주문 20:00) ', '신규오픈날짜': '2007년 ', '도로명주소': '서울특별시 강남구 봉은사로 130', '시': '서울특별시', '구': '강남구', '도로명': '동호로', '리뷰_상세': '국내 중식의 대가인 여경래 셰프가 2023년 이전하여 오픈한 중식 파인 다이닝 레스토랑. 고급스러운 분위기의 인테리어에서 정통 중식을 맛볼 수 있다. 여경래 셰프의 시그니처 메뉴인 불도장, 모자새우 등을 선보인다.', '리뷰_요약': '국내 중식의 대가인 여경래 셰프가 2023년 이전하여 오픈한 중식 파인 다이닝 레스토랑. 고급스러운 분위기의 인테리어에서 정통 중식을 맛볼 수 있다. 여경래 셰프의 시그니처 메뉴인 불도장, 모자새우 등을 선보인다.', '리뷰_평가': '정보 없음', '좌석_수': '64', '룸_수': '6개(2, 3, 4, 6, 8, 12석)', '체인점여부': False, '리뉴얼여부': False, '대표점여부': '정보 없음', '지점여부': '정보 없음', '웹사이트': 'https://www.instagram.com/hongbogak_official/'}\", \"{'Unnamed: 0': 1, 'id': 29083, '예약': '예약가능', '음식종류': '컨템포러리, 이노베이티브퀴진, 분자요리, 이탈리아식', '식당이름': '쵸이닷', '리본개수': 3, '전화번호': '02-518-0318', '영업시간_평일': '12:00', '영업종료_평일': '22:30', '영업시간_주말': '미등록', '영업종료_주말': '미등록', '휴무일': '연중무휴', '앱사용여부': False, '주차가능여부': '가능', '카드결제가능여부': 'y', '방문가능여부': '청담사거리 앞. 버버리코리아 옆 건물', '메뉴정보': '런치코스(3코스 7만\\\\r\\\\n\\\\\\\\8천원, 4코스 9만8천원), 디너코스(19만8천원), 와인리스트(변동)', '가격대': '15~25만원대', '영업시간': '12:00~15:00/18:30~22:00 ', '신규오픈날짜': '2017년 03월 18일', '도로명주소': '서울특별시 강남구 도산대로 457', '시': '서울특별시', '구': '강남구', '도로명': '미등록', '리뷰_상세': '최현석 셰프의 크리에이티브한 요리를 즐길 수 있는 레스토랑. 분자요리와 이탈리아 요리를 기반으로 한 창의적인 요리가 코스로 나온다. 생각지 못한 재기발랄한 플레이팅은 자칫 엄숙하게 느껴질 수 있는 파인다이닝에 위트로 작용한다. 메뉴는 계절이나 재료에 맞춰 주기적으로 바뀌며 요리에 걸맞은 와인을 곁들이는 와인페어링도 추천한다. ', '리뷰_요약': '최현석 셰프의 크리에이티브한 요리를 즐길 수 있는 레스토랑. 분자요리와 이탈리아 요리를 기반으로 한 창의적인 요리가 코스로 나온다. 생각지 못한 재기발랄한 플레이팅은 자칫 엄숙하게 느껴질 수 있는 파인다이닝에 위트로 작용한다. 메뉴는 계절이나 재료에 맞춰 주기적으로 바뀌며 요리에 걸맞은 와인을 곁들이는 와인페어링도 추천한다.', '리뷰_평가': '“어디까지 발전할 수 있을지 진심으로 기대되는 곳.” “음식 너무나 재밌었어요.”', '좌석_수': '미등록', '룸_수': '미등록', '체인점여부': False, '리뉴얼여부': False, '대표점여부': '정보 없음', '지점여부': '정보 없음', '웹사이트': 'https://www.instagram.com/choidot_official/'}\", \"{'Unnamed: 0': 2, 'id': 28946, '예약': '예약가능', '음식종류': '프랑스식', '식당이름': '더그린테이블', '리본개수': 3, '전화번호': '02-591-2672', '영업시간_평일': '미등록', '영업종료_평일': '미등록', '영업시간_주말': '미등록', '영업종료_주말': '미등록', '휴무일': '월, 화요일, 명절 휴무', '앱사용여부': False, '주차가능여부': '가능', '카드결제가능여부': 'y', '방문가능여부': '안국역 3번 출구에서 직진 후 아라리오 뮤지엄 5층에 위치', '메뉴정보': '런치코스(17만원), 디너코스(27만원), 와인페어링(변동)', '가격대': '15~25만원대', '영업시간': '12:00~15:00/18:00~22:00 | 일요일 12:00~15:00/18:00~21:30 ', '신규오픈날짜': '2009년 11월 14일', '도로명주소': '서울특별시 종로구 율곡로 83', '시': '서울특별시', '구': '종로구', '도로명': '미등록', '리뷰_상세': '김은희 셰프가 운영하는 프렌치 레스토랑. 사계절에 따라 변화하는 우리나라 식재료로 만든 프렌치 요리를 선보인다. 제철 나물, 곡물, 생선, 해산물 등을 활용한 요리에서 변화하는 식재료의 다채로움을 즐길 수 있다. 2023년 10월 원서동 아라리오 뮤지엄 인 스페이스 건물로 이전하여 새로운 모습을 보여줄 예정이다.', '리뷰_요약': '김은희 셰프가 운영하는 프렌치 레스토랑. 사계절에 따라 변화하는 우리나라 식재료로 만든 프렌치 요리를 선보인다. 제철 나물, 곡물, 생선, 해산물 등을 활용한 요리에서 변화하는 식재료의 다채로움을 즐길 수 있다. 2023년 10월 원서동 아라리오 뮤지엄 인 스페이스 건물로 이전하여 새로운 모습을 보여줄 예정이다.', '리뷰_평가': '“음식의 결 하나하나에서 섬세한 정성이 듬뿍 느껴진다. 신선한 재료들이 훌륭하게 조화를 이룬다.” “가격 대비 양과 질이 훌륭합니다. 2인 예약을 하면 별실도 가능한데, 프라이빗하고 편안한 분위기입니다.” “분위기도 너무 좋았고 맛도 클래식한 게 맘에 들었습니다.”', '좌석_수': '미등록', '룸_수': '미등록', '체인점여부': False, '리뉴얼여부': False, '대표점여부': '정보 없음', '지점여부': '정보 없음', '웹사이트': 'http://thegreentable.co.kr/, https://www.instagram.com/restaurant_thegreentable/'}\"]\n"
     ]
    }
   ],
   "source": [
    "print(f\"Documents: {documents[:3]}\") "
   ]
  },
  {
   "cell_type": "code",
   "execution_count": 5,
   "metadata": {},
   "outputs": [
    {
     "name": "stdout",
     "output_type": "stream",
     "text": [
      "{'Unnamed: 0': 0, 'id': 4627, '예약': '예약가능', '음식종류': '중식, 일반중식', '식당이름': '홍보각', '리본개수': 3, '전화번호': '02-531-6479', '영업시간_평일': '미등록', '영업종료_평일': '미등록', '영업시간_주말': '미등록', '영업종료_주말': '미등록', '휴무일': '연중무휴', '앱사용여부': True, '주차가능여부': '가능', '카드결제가능여부': 'y', '방문가능여부': nan, '메뉴정보': '스페셜코스(1인 15만원), 디너코스(A 12만원, B 16만원), 고법불도장(13만원), 모자새우(소 6만원, 대 10만원), 한알탕수육(소 4만8천원, 대 7만원), 특선냉채(2만8천원), 셰프특선수프(3만8천원), 셰프스페셜송이특찜(15만원)', '가격대': '10~15만원대', '영업시간': '12:00~15:00/18:00~21:30(마지막 주문 20:00) ', '신규오픈날짜': '2007년 ', '도로명주소': '서울특별시 강남구 봉은사로 130', '시': '서울특별시', '구': '강남구', '도로명': '동호로', '리뷰_상세': '국내 중식의 대가인 여경래 셰프가 2023년 이전하여 오픈한 중식 파인 다이닝 레스토랑. 고급스러운 분위기의 인테리어에서 정통 중식을 맛볼 수 있다. 여경래 셰프의 시그니처 메뉴인 불도장, 모자새우 등을 선보인다.', '리뷰_요약': '국내 중식의 대가인 여경래 셰프가 2023년 이전하여 오픈한 중식 파인 다이닝 레스토랑. 고급스러운 분위기의 인테리어에서 정통 중식을 맛볼 수 있다. 여경래 셰프의 시그니처 메뉴인 불도장, 모자새우 등을 선보인다.', '리뷰_평가': '정보 없음', '좌석_수': '64', '룸_수': '6개(2, 3, 4, 6, 8, 12석)', '체인점여부': False, '리뉴얼여부': False, '대표점여부': '정보 없음', '지점여부': '정보 없음', '웹사이트': 'https://www.instagram.com/hongbogak_official/'}\n"
     ]
    }
   ],
   "source": [
    "print(documents[0])"
   ]
  },
  {
   "cell_type": "code",
   "execution_count": 4,
   "metadata": {},
   "outputs": [],
   "source": [
    "from langchain_core.output_parsers import StrOutputParser\n",
    "from textwrap import dedent\n",
    "\n",
    "vector_store = Chroma(\n",
    "    embedding_function=embedding_model,\n",
    "    collection_name=COLLECTION_NAME,\n",
    "    persist_directory=PERSIST_DIRECTORY\n",
    ")\n",
    "\n",
    "\n",
    "# GPT Model 생성\n",
    "model = ChatOpenAI(\n",
    "    model='gpt-4o-mini',\n",
    "    temperature=0 \n",
    ")\n",
    "\n",
    "\n",
    "retriever = vector_store.as_retriever(\n",
    "    search_type=\"mmr\",\n",
    "    search_kwargs={\n",
    "        \"k\": 100,\n",
    "        \"fetch_k\": 200,\n",
    "        \"lambda_mult\": 0.5,\n",
    "        \"filters\": {\"리본개수\": {\"$gte\": 2}}\n",
    "    }\n",
    ")\n",
    "\n",
    "\n",
    "# Prompt Template 생성\n",
    "prompt_template = ChatPromptTemplate.from_messages([\n",
    "    (\"system\", dedent(\"\"\"\n",
    "                당신은 한국의 식당을 소개하는 인공지능 비서입니다. \n",
    "                반드시 질문에 대해서 [context]에 주어진 내용을 바탕으로 답변을 해주세요. \n",
    "                만약 context에 질문과 관련된 내용이 없으면 \"해당 정보가 없어 답변할 수 없습니다.\" 라고 대답해 주세요. \n",
    "                없는 정보를 만들어서 대답하지 마세요.\n",
    "                # 만약 질문에 리본개수가 몇개인 식당 또는 몇개 이상, 이하인 식당에 대한 질문이 들어오면 [context] 식당 정보의 \"리본개수\" 항목을 확인해서 답변하세요.\n",
    "                \n",
    "                [context]\n",
    "                {context}\n",
    "                \"\"\")),\n",
    "    (\"human\", \"{question}\")\n",
    "])\n",
    "\n",
    "# prompt_template = ChatPromptTemplate.from_messages([\n",
    "#     (\"system\", \"당신은 한국의 블루리본 서베이 전문가입니다. 질문에 자세히 답해주세요.\"),\n",
    "#     (\"human\", \"{question}\")\n",
    "# ])\n",
    "\n",
    "\n",
    "# prompt_template = ChatPromptTemplate.from_messages([\n",
    "#     (\"system\", \"\"\"당신은 한국의 블루리본 서베이 안내자입니다. 주어진 데이터를 꼼꼼히 확인하여 가능한 정확한 정보를 주세요. \n",
    "#         # 반드시 context 의 내용을 바탕으로 대답해 주세요. \n",
    "#         '리본'과 관련된 모든 질문은 '리본이 몇 개인지'와 같은 숫자 조건을 포함한 검색으로 간주합니다.\n",
    "#         '모든 질문에 대한 응답은 저장된 데이터를 토대로 정확한 갯수와 답변을 해주세요'\n",
    "#         [context]\n",
    "#         {context} \"\"\"),\n",
    "#     (\"human\", \"{question}\")\n",
    "# ])\n",
    "\n",
    "\n",
    "\n",
    "\n",
    "#########################################\n",
    "# Chain 생성\n",
    "#########################################\n",
    "\n",
    "def content_from_doc(docs:list[Document]):\n",
    "    return \"\\n\\n\".join([d.page_content for d in docs])\n",
    "\n",
    "\n",
    "chain =  {'context': retriever  |RunnableLambda(content_from_doc), 'question': RunnablePassthrough()}  | prompt_template | model | StrOutputParser()"
   ]
  },
  {
   "cell_type": "code",
   "execution_count": 5,
   "metadata": {},
   "outputs": [
    {
     "name": "stdout",
     "output_type": "stream",
     "text": [
      "해당 정보가 없어 답변할 수 없습니다.\n"
     ]
    }
   ],
   "source": [
    "QUERY = \"서대문구 근처 음식점 중 리본개수가 2개인 식당 다섯 곳을을 추천해주세요. 주소와 리본개수는 꼭 결과에 넣어주세요.\"\n",
    "response = chain.invoke(QUERY)\n",
    "print(response)"
   ]
  },
  {
   "cell_type": "code",
   "execution_count": 6,
   "metadata": {},
   "outputs": [
    {
     "name": "stdout",
     "output_type": "stream",
     "text": [
      "서대문구 근처 음식점 다섯 곳은 다음과 같습니다:\n",
      "\n",
      "1. **형제집**\n",
      "   - 음식종류: 한식주점\n",
      "   - 전화번호: 02-921-3626\n",
      "   - 주소: 서울특별시 동대문구 제기로6길 14-2\n",
      "   - 메뉴: 닭볶음탕, 감자탕, 닭갈비 등\n",
      "\n",
      "2. **또또**\n",
      "   - 음식종류: 한식주점\n",
      "   - 전화번호: 02-332-7312\n",
      "   - 주소: 서울특별시 서대문구 홍제천로6길 2\n",
      "   - 메뉴: 보쌈, 부대찌개, 차돌숙주볶음 등\n",
      "\n",
      "3. **술익는마을**\n",
      "   - 음식종류: 한식주점\n",
      "   - 전화번호: 02-338-1190\n",
      "   - 주소: 서울특별시 서대문구 연세로7길 22\n",
      "   - 메뉴: 해물볶음우동, 소고기다타키 등\n",
      "\n",
      "4. **한술식당(신촌점)**\n",
      "   - 음식종류: 한식(일반한식), 덮밥\n",
      "   - 전화번호: 0507-1479-8267\n",
      "   - 주소: 서울특별시 서대문구 연세로4길 40\n",
      "   - 메뉴: 간장삼겹덮밥, 오리지널곱창덮밥 등\n",
      "\n",
      "5. **자주식당**\n",
      "   - 음식종류: 한식주점\n",
      "   - 전화번호: 02-511-8843\n",
      "   - 주소: 서울특별시 강남구 강남대로156길 17\n",
      "   - 메뉴: 고기요리, 해물요리 등\n",
      "\n",
      "이 음식점들은 다양한 한식 메뉴를 제공하며, 서대문구와 인근 지역에서 인기 있는 곳들입니다.\n"
     ]
    }
   ],
   "source": [
    "QUERY = \"서대문구 근처 음식점 다섯 곳만 추천해주세요.\"\n",
    "response = chain.invoke(QUERY)\n",
    "print(response)"
   ]
  },
  {
   "cell_type": "code",
   "execution_count": 7,
   "metadata": {},
   "outputs": [
    {
     "name": "stdout",
     "output_type": "stream",
     "text": [
      "리본개수가 2개인 식당은 다음과 같습니다:\n",
      "\n",
      "1. **팔레드신**\n",
      "   - 음식종류: 중식, 모던 차이니즈\n",
      "   - 전화번호: 02-317-4001\n",
      "   - 가격대: 10~15만원대\n",
      "   - 도로명주소: 서울특별시 중구 퇴계로 67\n",
      "   - 영업시간: 11:30~15:00/17:30~22:00\n",
      "   - 웹사이트: [팔레드신 웹사이트](https://www.lescapehotel.com/dining/diner03)\n",
      "\n",
      "2. **핑하오**\n",
      "   - 음식종류: 중식, 일반중식\n",
      "   - 전화번호: 02-3274-1188\n",
      "   - 가격대: 2~5만원대\n",
      "   - 도로명주소: 서울특별시 마포구 마포대로 45\n",
      "   - 영업시간: 11:30~14:30/16:30~21:50\n",
      "   - 웹사이트: 정보 없음\n",
      "\n",
      "이 두 식당을 추천드립니다!\n"
     ]
    }
   ],
   "source": [
    "QUERY = \"리본개수가 2개인 식당을 추천해주세요\"\n",
    "response = chain.invoke(QUERY)\n",
    "print(response)"
   ]
  },
  {
   "cell_type": "code",
   "execution_count": 20,
   "metadata": {},
   "outputs": [
    {
     "name": "stdout",
     "output_type": "stream",
     "text": [
      "리본개수가 2개인 식당은 다음과 같습니다:\n",
      "\n",
      "- **식당이름**: 대려도\n",
      "  - **가격대**: 5~10만원대\n",
      "  - **구**: 강남구\n",
      "  - **도로명주소**: 서울특별시 강남구 역삼로 118\n",
      "  - **리뷰_상세**: 한국인의 입맛에 맞는 정통 북경요리를 선보이는 곳. 짜장면, 짬뽕 등의 식사 메뉴를 비롯해 냉채, 샥스핀, 고기요리 등 다채로운 요리를 즐길 수 있다. 코스메뉴도 가격 대비 높은 만족도를 자랑한다. 연회실과 룸을 별도로 갖추고 있어 모임 장소로도 제격이다.\n",
      "  - **메뉴정보**: 삼선짜장면(1만2천원), 삼선짬뽕, 새우볶음밥(각 1만4천원), 크림중새우(소 4만7천원, 대 6만7천원), 깐풍기(소 3만9천원, 대 5만5천원), 점심코스(송 3만8천원, 죽 4만8천원), 저녁코스(일 6만원, 산 7만8천원, 강 12만 )\n",
      "  - **영업시간**: 11:30~15:00/17:30~22:00\n",
      "  - **전화번호**: 02-555-0550\n",
      "  - **주차가능여부**: 발레 파킹\n",
      "  - **휴무일**: 명절 휴무\n",
      "\n",
      "이 식당은 고급스러운 분위기와 다양한 메뉴로 추천할 만합니다.\n"
     ]
    }
   ],
   "source": [
    "# 단순\n",
    "QUERY = \"리본개수가 2인 식당을 다섯 곳곳 추천해주세요\"\n",
    "response = chain.invoke(QUERY)\n",
    "print(response)"
   ]
  },
  {
   "cell_type": "code",
   "execution_count": 8,
   "metadata": {},
   "outputs": [
    {
     "name": "stdout",
     "output_type": "stream",
     "text": [
      "리본개수가 2개인 식당은 다음과 같습니다:\n",
      "\n",
      "1. **백리향**\n",
      "   - 전화번호: 02-789-5741\n",
      "   - 음식종류: 중식, 일반중식\n",
      "   - 가격대: 15~25만원대\n",
      "   - 도로명주소: 서울특별시 영등포구 63로 50\n",
      "   - 웹사이트: [백리향 웹사이트](http://www.63restaurant.co.kr)\n",
      "\n",
      "2. **팔레드신**\n",
      "   - 전화번호: 02-317-4001\n",
      "   - 음식종류: 중식, 모던차이니즈, 홍콩식중식, 북경오리\n",
      "   - 가격대: 10~15만원대\n",
      "   - 도로명주소: 서울특별시 중구 퇴계로 67\n",
      "   - 웹사이트: [팔레드신 웹사이트](https://www.lescapehotel.com/dining/diner03)\n",
      "\n",
      "3. **온지음레스토랑**\n",
      "   - 전화번호: 02-6952-0024\n",
      "   - 음식종류: 한식(모던한식)\n",
      "   - 가격대: 15~25만원대\n",
      "   - 도로명주소: 서울특별시 종로구 효자로 49\n",
      "   - 웹사이트: [온지음레스토랑 웹사이트](https://www.instagram.com/onjium_restaurant/)\n",
      "\n",
      "이렇게 3곳의 식당을 추천드립니다.\n"
     ]
    }
   ],
   "source": [
    "# 단순\n",
    "QUERY = \"리본개수가 2개인 식당을 몇 곳 추천해주세요\"\n",
    "response = chain.invoke(QUERY)\n",
    "print(response)"
   ]
  },
  {
   "cell_type": "code",
   "execution_count": 9,
   "metadata": {},
   "outputs": [
    {
     "name": "stdout",
     "output_type": "stream",
     "text": [
      "해당 정보가 없어 답변할 수 없습니다.\n"
     ]
    }
   ],
   "source": [
    "QUERY = \"리본개수가 2개인 식당을 다섯 곳을 추천해주세요\"\n",
    "response = chain.invoke(QUERY)\n",
    "print(response)"
   ]
  },
  {
   "cell_type": "code",
   "execution_count": 14,
   "metadata": {},
   "outputs": [
    {
     "name": "stdout",
     "output_type": "stream",
     "text": [
      "추천할 만한 식당을 몇 곳 소개해 드리겠습니다.\n",
      "\n",
      "1. **대려도 (서울특별시 강남구)**\n",
      "   - 음식종류: 중식\n",
      "   - 가격대: 5~10만원대\n",
      "   - 특징: 정통 북경요리를 선보이며, 다양한 요리를 즐길 수 있는 곳입니다. 연회실과 룸을 별도로 갖추고 있어 모임 장소로도 적합합니다.\n",
      "   - 전화번호: 02-555-0550\n",
      "   - 웹사이트: [대려도 웹사이트](http://www.daeryudo.com)\n",
      "\n",
      "2. **목석원가든 (경상북도 안동시)**\n",
      "   - 음식종류: 한식\n",
      "   - 가격대: 2~5만원대\n",
      "   - 특징: 하회마을 초입에 위치하며, 간고등어 정식과 안동찜닭이 유명합니다. 고즈넉한 분위기에서 식사를 즐길 수 있습니다.\n",
      "   - 전화번호: 054-853-5332\n",
      "\n",
      "3. **만강 (강원특별자치도 춘천시)**\n",
      "   - 음식종류: 일식\n",
      "   - 가격대: 5~10만원대\n",
      "   - 특징: 고급 일식집으로 다양한 회를 맛볼 수 있으며, 코스 메뉴도 제공됩니다.\n",
      "   - 전화번호: 033-262-5900\n",
      "   - 웹사이트: [만강 웹사이트](http://mangang.ktib.co.kr/)\n",
      "\n",
      "4. **청자골종가집 (전라남도 강진군)**\n",
      "   - 음식종류: 한정식\n",
      "   - 가격대: 2~5만원대\n",
      "   - 특징: 40여 가지의 반찬이 푸짐하게 차려지는 한정식 전문점으로, 전통적인 분위기에서 식사를 즐길 수 있습니다.\n",
      "   - 전화번호: 061-433-1100\n",
      "\n",
      "이 외에도 다양한 식당이 있으니, 원하는 음식 종류나 분위기에 따라 선택하시면 좋겠습니다!\n"
     ]
    }
   ],
   "source": [
    "QUERY = \"식당을 추천해주세요\"\n",
    "response = chain.invoke(QUERY)\n",
    "print(response)"
   ]
  },
  {
   "cell_type": "code",
   "execution_count": 17,
   "metadata": {},
   "outputs": [
    {
     "name": "stdout",
     "output_type": "stream",
     "text": [
      "프랑스식 요리를 즐길 수 있는 몇 가지 추천 식당을 소개해 드리겠습니다.\n",
      "\n",
      "1. **오부이용**\n",
      "   - **위치**: 서울특별시 성동구 독서당로51길 29-1\n",
      "   - **추천 메뉴**: 양파수프, 파테, 부르고뉴식달팽이, 코코뱅, 저녁코스\n",
      "   - **영업시간**: 12:00~15:00/18:00~22:00\n",
      "   - **예약**: 예약 가능\n",
      "   - **웹사이트**: [Instagram](https://www.instagram.com/aubouillon)\n",
      "\n",
      "2. **르샹띠에**\n",
      "   - **위치**: 경기도 고양시 일산동구 동판교로177번길 25\n",
      "   - **추천 메뉴**: 셰프스페셜, 한우안심스테이크, 비프부르기뇽, 오리다리콩피\n",
      "   - **영업시간**: 11:30~15:00/18:00~22:00\n",
      "   - **예약**: 예약 가능\n",
      "   - **웹사이트**: [Instagram](https://www.instagram.com/le.sentier/)\n",
      "\n",
      "3. **꼼모아**\n",
      "   - **위치**: 서울특별시 강남구 선릉로135길 29\n",
      "   - **추천 메뉴**: 비프웰링턴, 오리다리콩피, 트러플화이트라구파스타\n",
      "   - **영업시간**: 12:00~15:00/17:30~22:00\n",
      "   - **예약**: 예약 가능\n",
      "   - **웹사이트**: [Instagram](https://www.instagram.com/commemoa.gn/)\n",
      "\n",
      "이 외에도 다양한 프랑스식 레스토랑이 있으니, 원하시는 분위기나 메뉴에 따라 선택하시면 좋겠습니다!\n"
     ]
    }
   ],
   "source": [
    "QUERY = \"프랑스식을 추천해주세요\"\n",
    "response = chain.invoke(QUERY)\n",
    "print(response)"
   ]
  },
  {
   "cell_type": "code",
   "execution_count": 18,
   "metadata": {},
   "outputs": [
    {
     "name": "stdout",
     "output_type": "stream",
     "text": [
      "가족과 함께 가기 좋은 식당으로는 다음과 같은 곳들이 있습니다:\n",
      "\n",
      "1. **신화정** (전라남도 순천시 구암길 26)\n",
      "   - **음식종류**: 한정식\n",
      "   - **특징**: 떡갈비를 메인으로 한 한정식을 제공하며, 정갈하고 깔끔한 스타일의 음식으로 상견례나 손님 접대 장소로 적합합니다. 2인, 3인, 4인 기준으로 한상이 차려지며 1인 반상도 주문 가능합니다.\n",
      "\n",
      "2. **소곱친구** (경기도 수원시 영통구 효원로 393)\n",
      "   - **음식종류**: 양곱창\n",
      "   - **특징**: 깔끔한 분위기에서 한우 곱창과 대창, 막창을 전문으로 하며, 두꺼운 철판 위에 곱창을 올려 구워 먹습니다. 가족 단위로 방문하기 좋은 곳입니다.\n",
      "\n",
      "3. **너른마당** (경기도 고양시 덕양구 서삼릉길 233-4)\n",
      "   - **음식종류**: 한식(가금류)\n",
      "   - **특징**: 넓은 마당에서 키운 닭을 사용한 백숙과 닭볶음탕이 인기입니다. 가족 단위로 편안하게 식사할 수 있는 공간이 마련되어 있습니다.\n",
      "\n",
      "이 외에도 다양한 메뉴와 편안한 분위기를 제공하는 식당들이 많으니, 가족의 취향에 맞는 곳을 선택하시면 좋겠습니다!\n"
     ]
    }
   ],
   "source": [
    "QUERY = \"가족과 함께 갈만한 식당을 추천해주세요\"\n",
    "response = chain.invoke(QUERY)\n",
    "print(response)"
   ]
  },
  {
   "cell_type": "markdown",
   "metadata": {},
   "source": [
    "## 기록"
   ]
  },
  {
   "cell_type": "markdown",
   "metadata": {},
   "source": [
    "## 데이터 검토를 위한 코드들"
   ]
  },
  {
   "cell_type": "code",
   "execution_count": 20,
   "metadata": {},
   "outputs": [
    {
     "name": "stderr",
     "output_type": "stream",
     "text": [
      "C:\\Users\\Playdata\\AppData\\Local\\Temp\\ipykernel_25792\\1666571792.py:2: LangChainDeprecationWarning: The method `BaseRetriever.get_relevant_documents` was deprecated in langchain-core 0.1.46 and will be removed in 1.0. Use :meth:`~invoke` instead.\n",
      "  documents = retriever.get_relevant_documents(QUERY)\n"
     ]
    },
    {
     "name": "stdout",
     "output_type": "stream",
     "text": [
      "문서 1:\n",
      "Metadata: {}\n",
      "Content: id: 35255\n",
      "bookStatus: INACTIVE\n",
      "foodTypes: 한식(육류), 소고기구이, 돼지고기구이\n",
      "headerInfo_nameKR: 털보정육식당(장위2호점)\n",
      "headerInfo_ribbonType: NOT_RECORD\n",
      "defaultInfo_phone: 0507-1327-1979\n",
      "defaultInfo_openHours: nan\n",
      "defaultInfo_closeHours: nan\n",
      "defaultInfo_openHoursWeekend: nan\n",
      "defaultInfo_closeHoursWeekend: nan\n",
      "defaultInfo_dayOff: 연중무휴\n",
      "defaultInfo_app2Yn: False\n",
      "statusInfo_parking: 가능\n",
      "statusInfo_creditCard: nan\n",
      "statusInfo_visit: nan\n",
      "statusInfo_menu: 1++한우(변동), 한돈(변동), 한우탕밥(9천원), 한우육회비빔밥(1만2천원), 한우사골(1만원~2만원), 물냉면, 비빔냉면(각 7천원)\n",
      "statusInfo_priceRange: 2~5만원대\n",
      "statusInfo_businessHours: 12:00~15:00/17:00~23:00│토, 일요일 12:00~23:00\n",
      "statusInfo_newOpenDate: nan\n",
      "juso_roadAddrPart1: 서울특별시 성북구 돌곶이로 157\n",
      "juso_siNm: 서울특별시\n",
      "juso_sggNm: 성북구\n",
      "juso_rn: nan\n",
      "review_review: 원하는 소나 돼지고기 부위를 먼저 계산 후 구워 먹는 정육식당으로, 털보정육식당의 2호점. 1++ 등급 한우 암소의 다양한 부위를 맛볼 수 있으며, 한 마리 세트도 있다. 숯불에 구워 먹으며, 밑반찬과 된장찌개, 육회도 내어 준다. \n",
      "review_reviewSimple: 원하는 소나 돼지고기 부위를 먼저 계산 후 구워 먹는 정육식당으로, 털보정육식당의 2호점. 1++ 등급 한우 암소의 다양한 부위를 맛볼 수 있으며, 한 마리 세트도 있다. 숯불에 구워 먹으며, 밑반찬과 된장찌개, 육회도 내어 준다. \n",
      "review_readerAppraisal: nan\n",
      "etcInfo_seat: nan\n",
      "etcInfo_room: nan\n",
      "etcInfo_chain: True\n",
      "etcInfo_renewal: False\n",
      "etcInfo_head: nan\n",
      "etcInfo_branch: nan\n",
      "defaultInfo_website: nan\n",
      "------\n",
      "문서 2:\n",
      "Metadata: {}\n",
      "Content: id: 29820\n",
      "bookStatus: INACTIVE\n",
      "foodTypes: 한식(일반한식), 일반한식, 솥밥\n",
      "headerInfo_nameKR: 우성식당\n",
      "headerInfo_ribbonType: NOT_RECORD\n",
      "defaultInfo_phone: 02-453-4636\n",
      "defaultInfo_openHours: nan\n",
      "defaultInfo_closeHours: nan\n",
      "defaultInfo_openHoursWeekend: nan\n",
      "defaultInfo_closeHoursWeekend: nan\n",
      "defaultInfo_dayOff: 연중무휴\n",
      "defaultInfo_app2Yn: False\n",
      "statusInfo_parking: 가능\n",
      "statusInfo_creditCard: y\n",
      "statusInfo_visit: 건대입구역 5번 출구에서 직진. 원일교회에서 우회전 후 직진하면 좌측\n",
      "statusInfo_menu: 시골청국장, 김치찌개, 된장찌개(각 6천원), 조기구이, 자반구이, 돼지불백(각 7천원), 양념삼치구이(7천5백원), 2인세트(1만6천원, 1만8천원)\n",
      "statusInfo_priceRange: 1만원 미만\n",
      "statusInfo_businessHours: 09:00~22:00\n",
      "statusInfo_newOpenDate: nan\n",
      "juso_roadAddrPart1: 서울특별시 광진구 자양번영로 60-1\n",
      "juso_siNm: 서울특별시\n",
      "juso_sggNm: 광진구\n",
      "juso_rn: nan\n",
      "review_review: 돌솥밥이 맛있기로 유명한 기사식당. 찌개, 생선구이, 생선조림, 돼지불고기백반 등 다양한 메뉴를 만족도 높게 즐길 수 있다. 모든 메뉴에 나오는 밥은 돌솥밥에 조리해 밥맛이 좋다. 다양한 메뉴로 구성된 2인세트메뉴도 추천할 만하다.\n",
      "review_reviewSimple: 돌솥밥이 맛있기로 유명한 기사식당. 찌개, 생선구이, 생선조림, 돼지불고기백반 등 다양한 메뉴를 만족도 높게 즐길 수 있다. 모든 메뉴에 나오는 밥은 돌솥밥에 조리해 밥맛이 좋다. 다양한 메뉴로 구성된 2인세트메뉴도 추천할 만하다.\n",
      "review_readerAppraisal: nan\n",
      "etcInfo_seat: nan\n",
      "etcInfo_room: nan\n",
      "etcInfo_chain: False\n",
      "etcInfo_renewal: False\n",
      "etcInfo_head: nan\n",
      "etcInfo_branch: nan\n",
      "defaultInfo_website: https://woosungbistro.modoo.at\n",
      "------\n",
      "문서 3:\n",
      "Metadata: {}\n",
      "Content: id: 14396\n",
      "bookStatus: INACTIVE\n",
      "foodTypes: 한식(일반한식), 한정식\n",
      "headerInfo_nameKR: 산수고원\n",
      "headerInfo_ribbonType: NOT_RECORD\n",
      "defaultInfo_phone: 02-478-3490\n",
      "defaultInfo_openHours: 11:00\n",
      "defaultInfo_closeHours: 22:00\n",
      "defaultInfo_openHoursWeekend: nan\n",
      "defaultInfo_closeHoursWeekend: nan\n",
      "defaultInfo_dayOff: 연중무휴\n",
      "defaultInfo_app2Yn: False\n",
      "statusInfo_parking: 가능\n",
      "statusInfo_creditCard: nan\n",
      "statusInfo_visit: 중앙보훈병원 성당 앞\n",
      "statusInfo_menu: 황태정식(1인 1만5천원), 보리굴비정식(1인 2만2천원), 산수정식(1인 2만5천원), 고원정식(1인 3만8천원), 수삼정식(1인 5만8천원), 프리미엄약선한정식(1인 7만8천원), 전복및생선회(5만원)\n",
      "statusInfo_priceRange: 2~5만원대\n",
      "statusInfo_businessHours: 11:00~22:00\n",
      "statusInfo_newOpenDate: nan\n",
      "juso_roadAddrPart1: 서울특별시 강동구 동남로 588\n",
      "juso_siNm: 서울특별시\n",
      "juso_sggNm: 강동구\n",
      "juso_rn: 동남로\n",
      "review_review: 일자산 입구에 위치한 한정식집. 분위기와 음식 맛이 깔끔하고 위치도 적당해서 제법 알려진 곳이다. 조용하고 1층부터 3층까지 있기 때문에 가족 단위의 식사나 상견례장소로도 좋다. 신선한 재료를 사용하는 음식 맛도 보통 이상이다.\n",
      "review_reviewSimple: 일자산 입구에 위치한 한정식집. 분위기와 음식 맛이 깔끔하고 위치도 적당해서 제법 알려진 곳이다. 조용하고 1층부터 3층까지 있기 때문에 가족 단위의 식사나 상견례장소로도 좋다. 신선한 재료를 사용하는 음식 맛도 보통 이상이다.\n",
      "review_readerAppraisal: nan\n",
      "etcInfo_seat: nan\n",
      "etcInfo_room: nan\n",
      "etcInfo_chain: False\n",
      "etcInfo_renewal: False\n",
      "etcInfo_head: nan\n",
      "etcInfo_branch: nan\n",
      "defaultInfo_website: nan\n",
      "------\n",
      "문서 4:\n",
      "Metadata: {}\n",
      "Content: id: 3757\n",
      "bookStatus: APPROVAL\n",
      "foodTypes: 한식(탕/국/찌개/전골), 소고기국밥, 한식(육류), 수육\n",
      "headerInfo_nameKR: 종로식당\n",
      "headerInfo_ribbonType: NOT\n",
      "defaultInfo_phone: 055-573-2785  \n",
      "defaultInfo_openHours: nan\n",
      "defaultInfo_closeHours: nan\n",
      "defaultInfo_openHoursWeekend: nan\n",
      "defaultInfo_closeHoursWeekend: nan\n",
      "defaultInfo_dayOff: 명절 휴무 \n",
      "defaultInfo_app2Yn: False\n",
      "statusInfo_parking: 가능\n",
      "statusInfo_creditCard: y\n",
      "statusInfo_visit: 의령군청에서 중앙사거리 방향으로 직진. 두 번째 골목에서 우회전하면 우측 \n",
      "statusInfo_menu: 소고기국밥, 곰탕(각 1만원), 수육(소 4만원, 대 5만원) \n",
      "statusInfo_priceRange: 1~2만원대\n",
      "statusInfo_businessHours: 07:00~19:00\n",
      "statusInfo_newOpenDate: 1955년 \n",
      "juso_roadAddrPart1: 경상남도 의령군 의령읍 충익로 47-6\n",
      "juso_siNm: 경상남도\n",
      "juso_sggNm: 의령군\n",
      "juso_rn: 충익로\n",
      "review_review: 70여 년 전통의 소고기국밥으로 유명한 집. 가마솥에서 푹 삶아서 부드러운 소고기와 얼큰한 국물 맛이 좋다. 의령 한우를 사용하며 수육을 시키면 선지, 사태, 양지, 대창 등이 곁들여 나온다. 곰탕은 점심시간 한정메뉴이다. \n",
      "review_reviewSimple: 70여 년 전통의 소고기국밥으로 유명한 집. 가마솥에서 푹 삶아서 부드러운 소고기와 얼큰한 국물 맛이 좋다. 의령 한우를 사용하며 수육을 시키면 선지, 사태, 양지, 대창 등이 곁들여 나온다. 곰탕은 점심시간 한정메뉴이다. \n",
      "review_readerAppraisal: nan\n",
      "etcInfo_seat: nan\n",
      "etcInfo_room: nan\n",
      "etcInfo_chain: False\n",
      "etcInfo_renewal: False\n",
      "etcInfo_head: nan\n",
      "etcInfo_branch: nan\n",
      "defaultInfo_website: nan\n",
      "------\n",
      "문서 5:\n",
      "Metadata: {}\n",
      "Content: id: 1618\n",
      "bookStatus: APPROVAL\n",
      "foodTypes: 한식(어패류), 오징어, 한식(육류), 돼지불고기, 소고기구이\n",
      "headerInfo_nameKR: 도암식당\n",
      "headerInfo_ribbonType: RIBBON_ONE\n",
      "defaultInfo_phone: 033-336-5814  \n",
      "defaultInfo_openHours: nan\n",
      "defaultInfo_closeHours: nan\n",
      "defaultInfo_openHoursWeekend: nan\n",
      "defaultInfo_closeHoursWeekend: nan\n",
      "defaultInfo_dayOff: 비정기적 휴무 \n",
      "defaultInfo_app2Yn: False\n",
      "statusInfo_parking: 불가\n",
      "statusInfo_creditCard: y\n",
      "statusInfo_visit: 횡계시외버스정류장에서 횡계교 방향으로 직진하면 좌측 \n",
      "statusInfo_menu: 오삼불고기, 주물럭전골(각 1만6천원), 오징어불고기(1만8천원), 황태구이(1만3천원), 황태국, 된장찌개(각 8천원), 삼겹살(200g 1만8천원)\n",
      "statusInfo_priceRange: 2~5만원대\n",
      "statusInfo_businessHours: 10:30~15:00/17:00~21:00\n",
      "statusInfo_newOpenDate: 1979년 \n",
      "juso_roadAddrPart1: 강원특별자치도 평창군 대관령면 대관령로 103\n",
      "juso_siNm: 강원특별자치도\n",
      "juso_sggNm: 평창군\n",
      "juso_rn: 대관령로\n",
      "review_review: 1층은 정육점, 2층은 식당으로 운영되는 정육식당. 한우등심을 비롯해 질 좋은 소고기와 오삼불고기 등을 맛볼 수 있다. 오삼불고기에는 아삭한 배추가 푸짐하게 들어가며 다 먹은 뒤 밥을 볶아 먹어도 좋다. 식사로는 깔끔한 맛이 일품인 황탯국을 추천한다.\n",
      "review_reviewSimple: 1층은 정육점, 2층은 식당으로 운영되는 정육식당. 한우등심을 비롯해 질 좋은 소고기와 오삼불고기 등을 맛볼 수 있다. 오삼불고기에는 아삭한 배추가 푸짐하게 들어가며 다 먹은 뒤 밥을 볶아 먹어도 좋다. 식사로는 깔끔한 맛이 일품인 황탯국을 추천한다.\n",
      "review_readerAppraisal: “함께 나오는 반찬들이 수준급에 싱싱한 배추도 좋습니다.” “바쁘실때도 친절하신 식당입니다 밑반찬중에 도라지정과는 정말 너무 맛있어서 두 접시나 먹었습니다!”\n",
      "etcInfo_seat: nan\n",
      "etcInfo_room: nan\n",
      "etcInfo_chain: False\n",
      "etcInfo_renewal: False\n",
      "etcInfo_head: nan\n",
      "etcInfo_branch: nan\n",
      "defaultInfo_website: nan\n",
      "------\n"
     ]
    }
   ],
   "source": [
    "# Retriever를 통해 관련 문서 가져오기\n",
    "documents = retriever.get_relevant_documents(QUERY)\n",
    "\n",
    "# 관련 문서 출력\n",
    "for idx, doc in enumerate(documents):\n",
    "    print(f\"문서 {idx + 1}:\")\n",
    "    print(\"Metadata:\", doc.metadata)\n",
    "    print(\"Content:\", doc.page_content)\n",
    "    print(\"------\")"
   ]
  },
  {
   "cell_type": "markdown",
   "metadata": {},
   "source": [
    "## 잡것들"
   ]
  },
  {
   "cell_type": "code",
   "execution_count": null,
   "metadata": {},
   "outputs": [],
   "source": [
    "# retrieval_qa = RetrievalQA.from_chain_type(\n",
    "#     llm=model,\n",
    "#     retriever=retriever,\n",
    "#     return_source_documents=True,  # Include source documents in response\n",
    "# )\n",
    "# response = retrieval_qa({\"query\": QUERY})\n",
    "\n",
    "# print(\"응답:\", response[\"result\"])"
   ]
  }
 ],
 "metadata": {
  "kernelspec": {
   "display_name": "langchain",
   "language": "python",
   "name": "python3"
  },
  "language_info": {
   "codemirror_mode": {
    "name": "ipython",
    "version": 3
   },
   "file_extension": ".py",
   "mimetype": "text/x-python",
   "name": "python",
   "nbconvert_exporter": "python",
   "pygments_lexer": "ipython3",
   "version": "3.12.7"
  }
 },
 "nbformat": 4,
 "nbformat_minor": 2
}
